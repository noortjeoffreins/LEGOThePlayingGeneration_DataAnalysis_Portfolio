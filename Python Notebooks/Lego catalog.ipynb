{
 "cells": [
  {
   "cell_type": "markdown",
   "id": "c71376cf-ee47-4888-a926-d768999e6d21",
   "metadata": {},
   "source": [
    "## **Preparing the dataset LEGO catalog for merging**"
   ]
  },
  {
   "cell_type": "markdown",
   "id": "462ece2d-4ee2-456b-bed4-7842dae855c0",
   "metadata": {},
   "source": [
    " . . . . . . . . . . . . . . . . . . . . . . . . . . . . . . . . . . . . . . . . . . . . . . . . . . . . . . . . . . . . . . . . . . . . . . . . . . . . . . . . . . . . . . . . . . . . . . . . . . . . . . . . . . . . . . . . . . . . . . . . . . . . . . . . . . . . . . . . . . . . "
   ]
  },
  {
   "cell_type": "markdown",
   "id": "5f9089c3-f28e-45d5-9c9f-e081ac57a2eb",
   "metadata": {},
   "source": [
    "### **INDEX**\n",
    "1. Setup Notebook \n",
    "2. Explore data set\n",
    "3. Query table\n",
    "4. Export data"
   ]
  },
  {
   "cell_type": "markdown",
   "id": "d5a7c367-6c20-4307-83f6-8167ae2590ba",
   "metadata": {},
   "source": [
    " . . . . . . . . . . . . . . . . . . . . . . . . . . . . . . . . . . . . . . . . . . . . . . . . . . . . . . . . . . . . . . . . . . . . . . . . . . . . . . . . . . . . . . . . . . . . . . . . . . . . . . . . . . . . . . . . . . . . . . . . . . . . . . . . . . . . . . . . . . . . "
   ]
  },
  {
   "cell_type": "markdown",
   "id": "c0bf5d32-1caa-4fcc-85aa-ce2c5a9d0132",
   "metadata": {},
   "source": [
    "### **1. SETUP NOTEBOOK**"
   ]
  },
  {
   "cell_type": "code",
   "execution_count": 7,
   "id": "cb06a3a8-199e-4882-b29c-4500340f5a23",
   "metadata": {},
   "outputs": [],
   "source": [
    "# import libraries\n",
    "import pandas as pd\n",
    "import numpy as np\n",
    "import os\n",
    "from pathlib import Path"
   ]
  },
  {
   "cell_type": "code",
   "execution_count": 8,
   "id": "272d7f17-8817-44d7-b5b9-bb2fff67d7e4",
   "metadata": {},
   "outputs": [],
   "source": [
    "# get the current working directory as a Path object\n",
    "path = os.getcwd()\n",
    "\n",
    "# update the path to parent folder\n",
    "path = os.path.abspath(os.path.join(path, os.pardir))"
   ]
  },
  {
   "cell_type": "code",
   "execution_count": 9,
   "id": "ed922a58-ab95-4c57-b57d-a8cd42efba9f",
   "metadata": {},
   "outputs": [],
   "source": [
    "# import data set LEGO catalog\n",
    "df_col = pd.read_csv(os.path.join(path, '2 Data', 'Original Data', 'colors.csv'))\n",
    "df_elm = pd.read_csv(os.path.join(path, '2 Data', 'Original Data', 'elements.csv'))\n",
    "df_inv = pd.read_csv(os.path.join(path, '2 Data', 'Original Data', 'inventories.csv'))\n",
    "df_invparts = pd.read_csv(os.path.join(path, '2 Data', 'Original Data', 'inventory_parts.csv'))\n",
    "df_invsets = pd.read_csv(os.path.join(path, '2 Data', 'Original Data', 'inventory_sets.csv'))\n",
    "df_mf = pd.read_csv(os.path.join(path, '2 Data', 'Original Data', 'minifigs.csv'))\n",
    "df_partcat = pd.read_csv(os.path.join(path, '2 Data', 'Original Data', 'part_categories.csv'))\n",
    "df_partrel = pd.read_csv(os.path.join(path, '2 Data', 'Original Data', 'part_relationships.csv'))\n",
    "df_parts = pd.read_csv(os.path.join(path, '2 Data', 'Original Data', 'parts.csv'))\n",
    "df_sets = pd.read_csv(os.path.join(path, '2 Data', 'Original Data', 'sets.csv'))\n",
    "df_themes = pd.read_csv(os.path.join(path, '2 Data', 'Original Data', 'themes.csv'))"
   ]
  },
  {
   "cell_type": "markdown",
   "id": "471f356f-df2d-4f86-a162-b0959e60d43c",
   "metadata": {},
   "source": [
    " . . . . . . . . . . . . . . . . . . . . . . . . . . . . . . . . . . . . . . . . . . . . . . . . . . . . . . . . . . . . . . . . . . . . . . . . . . . . . . . . . . . . . . . . . . . . . . . . . . . . . . . . . . . . . . . . . . . . . . . . . . . . . . . . . . . . . . . . . . . . "
   ]
  },
  {
   "cell_type": "markdown",
   "id": "c40a5058-7aa8-4ac4-9b94-389563c7c7aa",
   "metadata": {},
   "source": [
    "### **2. EXPLORE DATA SET LEGO CATALOG**"
   ]
  },
  {
   "cell_type": "code",
   "execution_count": 12,
   "id": "8b233e5a-6949-4263-8160-10823c71442c",
   "metadata": {},
   "outputs": [
    {
     "data": {
      "text/plain": [
       "(23969, 6)"
      ]
     },
     "execution_count": 12,
     "metadata": {},
     "output_type": "execute_result"
    }
   ],
   "source": [
    "df_sets.shape"
   ]
  },
  {
   "cell_type": "code",
   "execution_count": 13,
   "id": "0923607f-fd37-440e-b4e6-0d604d1a1f1d",
   "metadata": {},
   "outputs": [
    {
     "data": {
      "text/plain": [
       "(1287021, 6)"
      ]
     },
     "execution_count": 13,
     "metadata": {},
     "output_type": "execute_result"
    }
   ],
   "source": [
    "df_invparts.shape"
   ]
  },
  {
   "cell_type": "code",
   "execution_count": 14,
   "id": "7960add9-9be0-4154-a165-f4012181c251",
   "metadata": {},
   "outputs": [
    {
     "data": {
      "text/html": [
       "<div>\n",
       "<style scoped>\n",
       "    .dataframe tbody tr th:only-of-type {\n",
       "        vertical-align: middle;\n",
       "    }\n",
       "\n",
       "    .dataframe tbody tr th {\n",
       "        vertical-align: top;\n",
       "    }\n",
       "\n",
       "    .dataframe thead th {\n",
       "        text-align: right;\n",
       "    }\n",
       "</style>\n",
       "<table border=\"1\" class=\"dataframe\">\n",
       "  <thead>\n",
       "    <tr style=\"text-align: right;\">\n",
       "      <th></th>\n",
       "      <th>part_num</th>\n",
       "      <th>name</th>\n",
       "      <th>part_cat_id</th>\n",
       "      <th>part_material</th>\n",
       "    </tr>\n",
       "  </thead>\n",
       "  <tbody>\n",
       "    <tr>\n",
       "      <th>0</th>\n",
       "      <td>003381</td>\n",
       "      <td>Sticker Sheet for Set 663-1</td>\n",
       "      <td>58</td>\n",
       "      <td>Plastic</td>\n",
       "    </tr>\n",
       "    <tr>\n",
       "      <th>1</th>\n",
       "      <td>003383</td>\n",
       "      <td>Sticker Sheet for Sets 618-1, 628-2</td>\n",
       "      <td>58</td>\n",
       "      <td>Plastic</td>\n",
       "    </tr>\n",
       "    <tr>\n",
       "      <th>2</th>\n",
       "      <td>003402</td>\n",
       "      <td>Sticker Sheet for Sets 310-3, 311-1, 312-3</td>\n",
       "      <td>58</td>\n",
       "      <td>Plastic</td>\n",
       "    </tr>\n",
       "    <tr>\n",
       "      <th>3</th>\n",
       "      <td>003429</td>\n",
       "      <td>Sticker Sheet for Set 1550-1</td>\n",
       "      <td>58</td>\n",
       "      <td>Plastic</td>\n",
       "    </tr>\n",
       "    <tr>\n",
       "      <th>4</th>\n",
       "      <td>003432</td>\n",
       "      <td>Sticker Sheet for Sets 357-1, 355-1, 940-1</td>\n",
       "      <td>58</td>\n",
       "      <td>Plastic</td>\n",
       "    </tr>\n",
       "  </tbody>\n",
       "</table>\n",
       "</div>"
      ],
      "text/plain": [
       "  part_num                                        name  part_cat_id  \\\n",
       "0   003381                 Sticker Sheet for Set 663-1           58   \n",
       "1   003383         Sticker Sheet for Sets 618-1, 628-2           58   \n",
       "2   003402  Sticker Sheet for Sets 310-3, 311-1, 312-3           58   \n",
       "3   003429                Sticker Sheet for Set 1550-1           58   \n",
       "4   003432  Sticker Sheet for Sets 357-1, 355-1, 940-1           58   \n",
       "\n",
       "  part_material  \n",
       "0       Plastic  \n",
       "1       Plastic  \n",
       "2       Plastic  \n",
       "3       Plastic  \n",
       "4       Plastic  "
      ]
     },
     "execution_count": 14,
     "metadata": {},
     "output_type": "execute_result"
    }
   ],
   "source": [
    "df_parts.head()"
   ]
  },
  {
   "cell_type": "code",
   "execution_count": 15,
   "id": "a030981f-cc79-4806-a0b3-43d3a4b282d0",
   "metadata": {},
   "outputs": [
    {
     "data": {
      "text/html": [
       "<div>\n",
       "<style scoped>\n",
       "    .dataframe tbody tr th:only-of-type {\n",
       "        vertical-align: middle;\n",
       "    }\n",
       "\n",
       "    .dataframe tbody tr th {\n",
       "        vertical-align: top;\n",
       "    }\n",
       "\n",
       "    .dataframe thead th {\n",
       "        text-align: right;\n",
       "    }\n",
       "</style>\n",
       "<table border=\"1\" class=\"dataframe\">\n",
       "  <thead>\n",
       "    <tr style=\"text-align: right;\">\n",
       "      <th></th>\n",
       "      <th>set_num</th>\n",
       "      <th>name</th>\n",
       "      <th>year</th>\n",
       "      <th>theme_id</th>\n",
       "      <th>num_parts</th>\n",
       "      <th>img_url</th>\n",
       "    </tr>\n",
       "  </thead>\n",
       "  <tbody>\n",
       "    <tr>\n",
       "      <th>0</th>\n",
       "      <td>0003977811-1</td>\n",
       "      <td>Ninjago: Book of Adventures</td>\n",
       "      <td>2022</td>\n",
       "      <td>761</td>\n",
       "      <td>1</td>\n",
       "      <td>https://cdn.rebrickable.com/media/sets/0003977...</td>\n",
       "    </tr>\n",
       "    <tr>\n",
       "      <th>1</th>\n",
       "      <td>001-1</td>\n",
       "      <td>Gears</td>\n",
       "      <td>1965</td>\n",
       "      <td>756</td>\n",
       "      <td>43</td>\n",
       "      <td>https://cdn.rebrickable.com/media/sets/001-1.jpg</td>\n",
       "    </tr>\n",
       "    <tr>\n",
       "      <th>2</th>\n",
       "      <td>0011-2</td>\n",
       "      <td>Town Mini-Figures</td>\n",
       "      <td>1979</td>\n",
       "      <td>67</td>\n",
       "      <td>12</td>\n",
       "      <td>https://cdn.rebrickable.com/media/sets/0011-2.jpg</td>\n",
       "    </tr>\n",
       "    <tr>\n",
       "      <th>3</th>\n",
       "      <td>0011-3</td>\n",
       "      <td>Castle 2 for 1 Bonus Offer</td>\n",
       "      <td>1987</td>\n",
       "      <td>199</td>\n",
       "      <td>0</td>\n",
       "      <td>https://cdn.rebrickable.com/media/sets/0011-3.jpg</td>\n",
       "    </tr>\n",
       "    <tr>\n",
       "      <th>4</th>\n",
       "      <td>0012-1</td>\n",
       "      <td>Space Mini-Figures</td>\n",
       "      <td>1979</td>\n",
       "      <td>143</td>\n",
       "      <td>12</td>\n",
       "      <td>https://cdn.rebrickable.com/media/sets/0012-1.jpg</td>\n",
       "    </tr>\n",
       "  </tbody>\n",
       "</table>\n",
       "</div>"
      ],
      "text/plain": [
       "        set_num                         name  year  theme_id  num_parts  \\\n",
       "0  0003977811-1  Ninjago: Book of Adventures  2022       761          1   \n",
       "1         001-1                        Gears  1965       756         43   \n",
       "2        0011-2            Town Mini-Figures  1979        67         12   \n",
       "3        0011-3   Castle 2 for 1 Bonus Offer  1987       199          0   \n",
       "4        0012-1           Space Mini-Figures  1979       143         12   \n",
       "\n",
       "                                             img_url  \n",
       "0  https://cdn.rebrickable.com/media/sets/0003977...  \n",
       "1   https://cdn.rebrickable.com/media/sets/001-1.jpg  \n",
       "2  https://cdn.rebrickable.com/media/sets/0011-2.jpg  \n",
       "3  https://cdn.rebrickable.com/media/sets/0011-3.jpg  \n",
       "4  https://cdn.rebrickable.com/media/sets/0012-1.jpg  "
      ]
     },
     "execution_count": 15,
     "metadata": {},
     "output_type": "execute_result"
    }
   ],
   "source": [
    "df_sets.head()"
   ]
  },
  {
   "cell_type": "code",
   "execution_count": 16,
   "id": "c973fb32-e2ce-4cb3-aa45-72b8e9e9b26b",
   "metadata": {},
   "outputs": [
    {
     "data": {
      "text/html": [
       "<div>\n",
       "<style scoped>\n",
       "    .dataframe tbody tr th:only-of-type {\n",
       "        vertical-align: middle;\n",
       "    }\n",
       "\n",
       "    .dataframe tbody tr th {\n",
       "        vertical-align: top;\n",
       "    }\n",
       "\n",
       "    .dataframe thead th {\n",
       "        text-align: right;\n",
       "    }\n",
       "</style>\n",
       "<table border=\"1\" class=\"dataframe\">\n",
       "  <thead>\n",
       "    <tr style=\"text-align: right;\">\n",
       "      <th></th>\n",
       "      <th>inventory_id</th>\n",
       "      <th>set_num</th>\n",
       "      <th>quantity</th>\n",
       "    </tr>\n",
       "  </thead>\n",
       "  <tbody>\n",
       "    <tr>\n",
       "      <th>0</th>\n",
       "      <td>35</td>\n",
       "      <td>75911-1</td>\n",
       "      <td>1</td>\n",
       "    </tr>\n",
       "    <tr>\n",
       "      <th>1</th>\n",
       "      <td>35</td>\n",
       "      <td>75912-1</td>\n",
       "      <td>1</td>\n",
       "    </tr>\n",
       "    <tr>\n",
       "      <th>2</th>\n",
       "      <td>39</td>\n",
       "      <td>75048-1</td>\n",
       "      <td>1</td>\n",
       "    </tr>\n",
       "    <tr>\n",
       "      <th>3</th>\n",
       "      <td>39</td>\n",
       "      <td>75053-1</td>\n",
       "      <td>1</td>\n",
       "    </tr>\n",
       "    <tr>\n",
       "      <th>4</th>\n",
       "      <td>50</td>\n",
       "      <td>4515-1</td>\n",
       "      <td>1</td>\n",
       "    </tr>\n",
       "  </tbody>\n",
       "</table>\n",
       "</div>"
      ],
      "text/plain": [
       "   inventory_id  set_num  quantity\n",
       "0            35  75911-1         1\n",
       "1            35  75912-1         1\n",
       "2            39  75048-1         1\n",
       "3            39  75053-1         1\n",
       "4            50   4515-1         1"
      ]
     },
     "execution_count": 16,
     "metadata": {},
     "output_type": "execute_result"
    }
   ],
   "source": [
    "df_invsets.head()"
   ]
  },
  {
   "cell_type": "code",
   "execution_count": 17,
   "id": "acbe3568-24ca-4189-abd8-d12ca680232a",
   "metadata": {},
   "outputs": [
    {
     "data": {
      "text/html": [
       "<div>\n",
       "<style scoped>\n",
       "    .dataframe tbody tr th:only-of-type {\n",
       "        vertical-align: middle;\n",
       "    }\n",
       "\n",
       "    .dataframe tbody tr th {\n",
       "        vertical-align: top;\n",
       "    }\n",
       "\n",
       "    .dataframe thead th {\n",
       "        text-align: right;\n",
       "    }\n",
       "</style>\n",
       "<table border=\"1\" class=\"dataframe\">\n",
       "  <thead>\n",
       "    <tr style=\"text-align: right;\">\n",
       "      <th></th>\n",
       "      <th>inventory_id</th>\n",
       "      <th>part_num</th>\n",
       "      <th>color_id</th>\n",
       "      <th>quantity</th>\n",
       "      <th>is_spare</th>\n",
       "      <th>img_url</th>\n",
       "    </tr>\n",
       "  </thead>\n",
       "  <tbody>\n",
       "    <tr>\n",
       "      <th>1287016</th>\n",
       "      <td>242825</td>\n",
       "      <td>63868</td>\n",
       "      <td>72</td>\n",
       "      <td>2</td>\n",
       "      <td>f</td>\n",
       "      <td>https://cdn.rebrickable.com/media/parts/elemen...</td>\n",
       "    </tr>\n",
       "    <tr>\n",
       "      <th>1287017</th>\n",
       "      <td>242825</td>\n",
       "      <td>65578</td>\n",
       "      <td>71</td>\n",
       "      <td>2</td>\n",
       "      <td>f</td>\n",
       "      <td>https://cdn.rebrickable.com/media/parts/elemen...</td>\n",
       "    </tr>\n",
       "    <tr>\n",
       "      <th>1287018</th>\n",
       "      <td>242825</td>\n",
       "      <td>66906</td>\n",
       "      <td>0</td>\n",
       "      <td>1</td>\n",
       "      <td>f</td>\n",
       "      <td>https://cdn.rebrickable.com/media/parts/elemen...</td>\n",
       "    </tr>\n",
       "    <tr>\n",
       "      <th>1287019</th>\n",
       "      <td>242825</td>\n",
       "      <td>73562</td>\n",
       "      <td>5</td>\n",
       "      <td>1</td>\n",
       "      <td>f</td>\n",
       "      <td>https://cdn.rebrickable.com/media/parts/elemen...</td>\n",
       "    </tr>\n",
       "    <tr>\n",
       "      <th>1287020</th>\n",
       "      <td>242825</td>\n",
       "      <td>98138pr0370</td>\n",
       "      <td>191</td>\n",
       "      <td>2</td>\n",
       "      <td>f</td>\n",
       "      <td>https://cdn.rebrickable.com/media/parts/elemen...</td>\n",
       "    </tr>\n",
       "  </tbody>\n",
       "</table>\n",
       "</div>"
      ],
      "text/plain": [
       "         inventory_id     part_num  color_id  quantity is_spare  \\\n",
       "1287016        242825        63868        72         2        f   \n",
       "1287017        242825        65578        71         2        f   \n",
       "1287018        242825        66906         0         1        f   \n",
       "1287019        242825        73562         5         1        f   \n",
       "1287020        242825  98138pr0370       191         2        f   \n",
       "\n",
       "                                                   img_url  \n",
       "1287016  https://cdn.rebrickable.com/media/parts/elemen...  \n",
       "1287017  https://cdn.rebrickable.com/media/parts/elemen...  \n",
       "1287018  https://cdn.rebrickable.com/media/parts/elemen...  \n",
       "1287019  https://cdn.rebrickable.com/media/parts/elemen...  \n",
       "1287020  https://cdn.rebrickable.com/media/parts/elemen...  "
      ]
     },
     "execution_count": 17,
     "metadata": {},
     "output_type": "execute_result"
    }
   ],
   "source": [
    "df_invparts.tail()"
   ]
  },
  {
   "cell_type": "code",
   "execution_count": 18,
   "id": "10b0582a-c4ec-46c0-9f8d-117a732c9d92",
   "metadata": {},
   "outputs": [
    {
     "data": {
      "text/html": [
       "<div>\n",
       "<style scoped>\n",
       "    .dataframe tbody tr th:only-of-type {\n",
       "        vertical-align: middle;\n",
       "    }\n",
       "\n",
       "    .dataframe tbody tr th {\n",
       "        vertical-align: top;\n",
       "    }\n",
       "\n",
       "    .dataframe thead th {\n",
       "        text-align: right;\n",
       "    }\n",
       "</style>\n",
       "<table border=\"1\" class=\"dataframe\">\n",
       "  <thead>\n",
       "    <tr style=\"text-align: right;\">\n",
       "      <th></th>\n",
       "      <th>id</th>\n",
       "      <th>name</th>\n",
       "    </tr>\n",
       "  </thead>\n",
       "  <tbody>\n",
       "    <tr>\n",
       "      <th>18</th>\n",
       "      <td>21</td>\n",
       "      <td>Plates Round Curved and Dishes</td>\n",
       "    </tr>\n",
       "  </tbody>\n",
       "</table>\n",
       "</div>"
      ],
      "text/plain": [
       "    id                            name\n",
       "18  21  Plates Round Curved and Dishes"
      ]
     },
     "execution_count": 18,
     "metadata": {},
     "output_type": "execute_result"
    }
   ],
   "source": [
    "df_partcat[df_partcat['id'] == 21]"
   ]
  },
  {
   "cell_type": "code",
   "execution_count": 19,
   "id": "da730cd3-3f4f-4736-8268-28963173a6bb",
   "metadata": {},
   "outputs": [
    {
     "data": {
      "text/plain": [
       "array(['Plastic', 'Rubber', 'Cardboard/Paper', 'Cloth',\n",
       "       'Flexible Plastic', 'Metal', 'Foam'], dtype=object)"
      ]
     },
     "execution_count": 19,
     "metadata": {},
     "output_type": "execute_result"
    }
   ],
   "source": [
    "df_parts['part_material'].unique()"
   ]
  },
  {
   "cell_type": "markdown",
   "id": "6507056d-a8c2-48ba-8a4a-1c757df60d9f",
   "metadata": {},
   "source": [
    " . . . . . . . . . . . . . . . . . . . . . . . . . . . . . . . . . . . . . . . . . . . . . . . . . . . . . . . . . . . . . . . . . . . . . . . . . . . . . . . . . . . . . . . . . . . . . . . . . . . . . . . . . . . . . . . . . . . . . . . . . . . . . . . . . . . . . . . . . . . . "
   ]
  },
  {
   "cell_type": "markdown",
   "id": "0f570c0b-b8f3-4f4c-9086-cc1cfb0094a5",
   "metadata": {},
   "source": [
    "### **3.QUERY TABLE**"
   ]
  },
  {
   "cell_type": "markdown",
   "id": "10eee985-9dcf-42af-8eba-3f4953fde7d7",
   "metadata": {},
   "source": [
    "**Preprare sets to become baseline table and clean it to keep lego sets only**"
   ]
  },
  {
   "cell_type": "code",
   "execution_count": 23,
   "id": "d89fa037-f49a-4c51-a42b-e732085af345",
   "metadata": {},
   "outputs": [
    {
     "data": {
      "text/plain": [
       "0"
      ]
     },
     "execution_count": 23,
     "metadata": {},
     "output_type": "execute_result"
    }
   ],
   "source": [
    "#perfom mandatory duplicated and missing value check\n",
    "df_sets.duplicated().sum()"
   ]
  },
  {
   "cell_type": "code",
   "execution_count": 24,
   "id": "0830ad99-b328-43bf-bd1d-ac3d2cf28c34",
   "metadata": {},
   "outputs": [
    {
     "data": {
      "text/plain": [
       "set_num      0\n",
       "name         0\n",
       "year         0\n",
       "theme_id     0\n",
       "num_parts    0\n",
       "img_url      0\n",
       "dtype: int64"
      ]
     },
     "execution_count": 24,
     "metadata": {},
     "output_type": "execute_result"
    }
   ],
   "source": [
    "df_sets.isnull().sum()"
   ]
  },
  {
   "cell_type": "code",
   "execution_count": 25,
   "id": "cb70359e-8131-4847-a3c4-d266d3f030b3",
   "metadata": {},
   "outputs": [],
   "source": [
    "#considering  set that contains 0 parts as non-set LEGO product. \n",
    "df_sets_pos = df_sets[df_sets['num_parts'] > 0]"
   ]
  },
  {
   "cell_type": "code",
   "execution_count": 26,
   "id": "faa59702-55c1-4619-ac23-720c0d734ab8",
   "metadata": {},
   "outputs": [
    {
     "data": {
      "text/plain": [
       "'Number of rows in sets: 23969 and number of rows on filtered sets 18012'"
      ]
     },
     "execution_count": 26,
     "metadata": {},
     "output_type": "execute_result"
    }
   ],
   "source": [
    "#check new number of rows\n",
    "f\"Number of rows in sets: {df_sets.shape[0]} and number of rows on filtered sets {df_sets_pos.shape[0]}\""
   ]
  },
  {
   "cell_type": "code",
   "execution_count": 27,
   "id": "cc29033a-beaf-419d-a8f7-d39a8ead5870",
   "metadata": {},
   "outputs": [
    {
     "data": {
      "text/html": [
       "<div>\n",
       "<style scoped>\n",
       "    .dataframe tbody tr th:only-of-type {\n",
       "        vertical-align: middle;\n",
       "    }\n",
       "\n",
       "    .dataframe tbody tr th {\n",
       "        vertical-align: top;\n",
       "    }\n",
       "\n",
       "    .dataframe thead th {\n",
       "        text-align: right;\n",
       "    }\n",
       "</style>\n",
       "<table border=\"1\" class=\"dataframe\">\n",
       "  <thead>\n",
       "    <tr style=\"text-align: right;\">\n",
       "      <th></th>\n",
       "      <th>set_num</th>\n",
       "      <th>name</th>\n",
       "      <th>year</th>\n",
       "      <th>theme_id</th>\n",
       "      <th>num_parts</th>\n",
       "      <th>img_url</th>\n",
       "    </tr>\n",
       "  </thead>\n",
       "  <tbody>\n",
       "    <tr>\n",
       "      <th>0</th>\n",
       "      <td>0003977811-1</td>\n",
       "      <td>Ninjago: Book of Adventures</td>\n",
       "      <td>2022</td>\n",
       "      <td>761</td>\n",
       "      <td>1</td>\n",
       "      <td>https://cdn.rebrickable.com/media/sets/0003977...</td>\n",
       "    </tr>\n",
       "    <tr>\n",
       "      <th>13025</th>\n",
       "      <td>620-3</td>\n",
       "      <td>Blue Building Plate 32 x 32</td>\n",
       "      <td>2010</td>\n",
       "      <td>35</td>\n",
       "      <td>1</td>\n",
       "      <td>https://cdn.rebrickable.com/media/sets/620-3.jpg</td>\n",
       "    </tr>\n",
       "    <tr>\n",
       "      <th>13039</th>\n",
       "      <td>6213-1</td>\n",
       "      <td>Replacement Gearbox for Electric Motor</td>\n",
       "      <td>1985</td>\n",
       "      <td>456</td>\n",
       "      <td>1</td>\n",
       "      <td>https://cdn.rebrickable.com/media/sets/6213-1.jpg</td>\n",
       "    </tr>\n",
       "    <tr>\n",
       "      <th>13115</th>\n",
       "      <td>626-1</td>\n",
       "      <td>Baseplate, Green</td>\n",
       "      <td>1996</td>\n",
       "      <td>473</td>\n",
       "      <td>1</td>\n",
       "      <td>https://cdn.rebrickable.com/media/sets/626-1.jpg</td>\n",
       "    </tr>\n",
       "    <tr>\n",
       "      <th>13129</th>\n",
       "      <td>627-1</td>\n",
       "      <td>Baseplate, Blue</td>\n",
       "      <td>1996</td>\n",
       "      <td>473</td>\n",
       "      <td>1</td>\n",
       "      <td>https://cdn.rebrickable.com/media/sets/627-1.jpg</td>\n",
       "    </tr>\n",
       "  </tbody>\n",
       "</table>\n",
       "</div>"
      ],
      "text/plain": [
       "            set_num                                    name  year  theme_id  \\\n",
       "0      0003977811-1             Ninjago: Book of Adventures  2022       761   \n",
       "13025         620-3             Blue Building Plate 32 x 32  2010        35   \n",
       "13039        6213-1  Replacement Gearbox for Electric Motor  1985       456   \n",
       "13115         626-1                        Baseplate, Green  1996       473   \n",
       "13129         627-1                         Baseplate, Blue  1996       473   \n",
       "\n",
       "       num_parts                                            img_url  \n",
       "0              1  https://cdn.rebrickable.com/media/sets/0003977...  \n",
       "13025          1   https://cdn.rebrickable.com/media/sets/620-3.jpg  \n",
       "13039          1  https://cdn.rebrickable.com/media/sets/6213-1.jpg  \n",
       "13115          1   https://cdn.rebrickable.com/media/sets/626-1.jpg  \n",
       "13129          1   https://cdn.rebrickable.com/media/sets/627-1.jpg  "
      ]
     },
     "execution_count": 27,
     "metadata": {},
     "output_type": "execute_result"
    }
   ],
   "source": [
    "#confirm num_parts 0 starts at 1\n",
    "df_sets_pos.sort_values(by='num_parts', ascending=True).head()"
   ]
  },
  {
   "cell_type": "code",
   "execution_count": 28,
   "id": "ea4362f2-d6f7-490b-bf44-6f8a39feed81",
   "metadata": {},
   "outputs": [
    {
     "data": {
      "text/html": [
       "<div>\n",
       "<style scoped>\n",
       "    .dataframe tbody tr th:only-of-type {\n",
       "        vertical-align: middle;\n",
       "    }\n",
       "\n",
       "    .dataframe tbody tr th {\n",
       "        vertical-align: top;\n",
       "    }\n",
       "\n",
       "    .dataframe thead th {\n",
       "        text-align: right;\n",
       "    }\n",
       "</style>\n",
       "<table border=\"1\" class=\"dataframe\">\n",
       "  <thead>\n",
       "    <tr style=\"text-align: right;\">\n",
       "      <th></th>\n",
       "      <th>id</th>\n",
       "      <th>name</th>\n",
       "    </tr>\n",
       "  </thead>\n",
       "  <tbody>\n",
       "    <tr>\n",
       "      <th>0</th>\n",
       "      <td>1</td>\n",
       "      <td>Technic</td>\n",
       "    </tr>\n",
       "    <tr>\n",
       "      <th>1</th>\n",
       "      <td>3</td>\n",
       "      <td>Competition</td>\n",
       "    </tr>\n",
       "    <tr>\n",
       "      <th>2</th>\n",
       "      <td>4</td>\n",
       "      <td>Expert Builder</td>\n",
       "    </tr>\n",
       "    <tr>\n",
       "      <th>3</th>\n",
       "      <td>16</td>\n",
       "      <td>RoboRiders</td>\n",
       "    </tr>\n",
       "    <tr>\n",
       "      <th>4</th>\n",
       "      <td>17</td>\n",
       "      <td>Speed Slammers</td>\n",
       "    </tr>\n",
       "    <tr>\n",
       "      <th>...</th>\n",
       "      <td>...</td>\n",
       "      <td>...</td>\n",
       "    </tr>\n",
       "    <tr>\n",
       "      <th>461</th>\n",
       "      <td>764</td>\n",
       "      <td>The Legend of Zelda</td>\n",
       "    </tr>\n",
       "    <tr>\n",
       "      <th>462</th>\n",
       "      <td>765</td>\n",
       "      <td>Wicked</td>\n",
       "    </tr>\n",
       "    <tr>\n",
       "      <th>463</th>\n",
       "      <td>766</td>\n",
       "      <td>Fortnite</td>\n",
       "    </tr>\n",
       "    <tr>\n",
       "      <th>464</th>\n",
       "      <td>767</td>\n",
       "      <td>Dungeons &amp; Dragons</td>\n",
       "    </tr>\n",
       "    <tr>\n",
       "      <th>465</th>\n",
       "      <td>768</td>\n",
       "      <td>Wednesday</td>\n",
       "    </tr>\n",
       "  </tbody>\n",
       "</table>\n",
       "<p>466 rows × 2 columns</p>\n",
       "</div>"
      ],
      "text/plain": [
       "      id                 name\n",
       "0      1              Technic\n",
       "1      3          Competition\n",
       "2      4       Expert Builder\n",
       "3     16           RoboRiders\n",
       "4     17       Speed Slammers\n",
       "..   ...                  ...\n",
       "461  764  The Legend of Zelda\n",
       "462  765               Wicked\n",
       "463  766             Fortnite\n",
       "464  767   Dungeons & Dragons\n",
       "465  768            Wednesday\n",
       "\n",
       "[466 rows x 2 columns]"
      ]
     },
     "execution_count": 28,
     "metadata": {},
     "output_type": "execute_result"
    }
   ],
   "source": [
    "#identify categories that are not sets and clean them from sets df\n",
    "df_themes[['id', 'name']].drop_duplicates().sort_values('id')"
   ]
  },
  {
   "cell_type": "markdown",
   "id": "c0b6c4fe-7e54-49fb-8861-3b409085829f",
   "metadata": {},
   "source": [
    "> drop theme_id: 440, 441, 501, 502, 503, 504, 516, 523, 526, 734, 735, 736, 737, 739, 740, 741, 742, 756, 757, 758, 759, 760, 761"
   ]
  },
  {
   "cell_type": "code",
   "execution_count": 30,
   "id": "ac2c1bdc-620d-40d6-9b49-850e20bd1c81",
   "metadata": {},
   "outputs": [],
   "source": [
    "#create collection of theme_id for simple drop\n",
    "dropped_themes = 440, 441, 501, 502, 503, 504, 516, 523, 526, 734, 735, 736, 737, 739, 740, 741, 742, 756, 757, 758, 759, 760, 761"
   ]
  },
  {
   "cell_type": "code",
   "execution_count": 31,
   "id": "bbe4d527-1693-4a25-8a5b-bc1717f04559",
   "metadata": {},
   "outputs": [],
   "source": [
    "df_setsonly= df_sets_pos[~df_sets_pos['theme_id'].isin(dropped_themes)]"
   ]
  },
  {
   "cell_type": "code",
   "execution_count": 32,
   "id": "98828398-7b31-429c-90da-71d0062cad0f",
   "metadata": {},
   "outputs": [
    {
     "data": {
      "text/html": [
       "<div>\n",
       "<style scoped>\n",
       "    .dataframe tbody tr th:only-of-type {\n",
       "        vertical-align: middle;\n",
       "    }\n",
       "\n",
       "    .dataframe tbody tr th {\n",
       "        vertical-align: top;\n",
       "    }\n",
       "\n",
       "    .dataframe thead th {\n",
       "        text-align: right;\n",
       "    }\n",
       "</style>\n",
       "<table border=\"1\" class=\"dataframe\">\n",
       "  <thead>\n",
       "    <tr style=\"text-align: right;\">\n",
       "      <th></th>\n",
       "      <th>set_num</th>\n",
       "      <th>name</th>\n",
       "      <th>year</th>\n",
       "      <th>theme_id</th>\n",
       "      <th>num_parts</th>\n",
       "      <th>img_url</th>\n",
       "    </tr>\n",
       "  </thead>\n",
       "  <tbody>\n",
       "    <tr>\n",
       "      <th>2</th>\n",
       "      <td>0011-2</td>\n",
       "      <td>Town Mini-Figures</td>\n",
       "      <td>1979</td>\n",
       "      <td>67</td>\n",
       "      <td>12</td>\n",
       "      <td>https://cdn.rebrickable.com/media/sets/0011-2.jpg</td>\n",
       "    </tr>\n",
       "    <tr>\n",
       "      <th>4</th>\n",
       "      <td>0012-1</td>\n",
       "      <td>Space Mini-Figures</td>\n",
       "      <td>1979</td>\n",
       "      <td>143</td>\n",
       "      <td>12</td>\n",
       "      <td>https://cdn.rebrickable.com/media/sets/0012-1.jpg</td>\n",
       "    </tr>\n",
       "    <tr>\n",
       "      <th>5</th>\n",
       "      <td>0013-1</td>\n",
       "      <td>Space Mini-Figures</td>\n",
       "      <td>1979</td>\n",
       "      <td>143</td>\n",
       "      <td>12</td>\n",
       "      <td>https://cdn.rebrickable.com/media/sets/0013-1.jpg</td>\n",
       "    </tr>\n",
       "    <tr>\n",
       "      <th>6</th>\n",
       "      <td>0014-1</td>\n",
       "      <td>Space Mini-Figures</td>\n",
       "      <td>1979</td>\n",
       "      <td>143</td>\n",
       "      <td>2</td>\n",
       "      <td>https://cdn.rebrickable.com/media/sets/0014-1.jpg</td>\n",
       "    </tr>\n",
       "    <tr>\n",
       "      <th>7</th>\n",
       "      <td>0015-1</td>\n",
       "      <td>Space Mini-Figures</td>\n",
       "      <td>1979</td>\n",
       "      <td>143</td>\n",
       "      <td>18</td>\n",
       "      <td>https://cdn.rebrickable.com/media/sets/0015-1.jpg</td>\n",
       "    </tr>\n",
       "    <tr>\n",
       "      <th>...</th>\n",
       "      <td>...</td>\n",
       "      <td>...</td>\n",
       "      <td>...</td>\n",
       "      <td>...</td>\n",
       "      <td>...</td>\n",
       "      <td>...</td>\n",
       "    </tr>\n",
       "    <tr>\n",
       "      <th>23952</th>\n",
       "      <td>WIZARD-PORTRAITS-1</td>\n",
       "      <td>Wizard Portraits Tiles</td>\n",
       "      <td>2024</td>\n",
       "      <td>746</td>\n",
       "      <td>14</td>\n",
       "      <td>https://cdn.rebrickable.com/media/sets/wizard-...</td>\n",
       "    </tr>\n",
       "    <tr>\n",
       "      <th>23961</th>\n",
       "      <td>XMASTREE-1</td>\n",
       "      <td>Christmas Tree</td>\n",
       "      <td>2019</td>\n",
       "      <td>410</td>\n",
       "      <td>26</td>\n",
       "      <td>https://cdn.rebrickable.com/media/sets/xmastre...</td>\n",
       "    </tr>\n",
       "    <tr>\n",
       "      <th>23962</th>\n",
       "      <td>XWING-1</td>\n",
       "      <td>Mini X-Wing Fighter</td>\n",
       "      <td>2019</td>\n",
       "      <td>158</td>\n",
       "      <td>60</td>\n",
       "      <td>https://cdn.rebrickable.com/media/sets/xwing-1...</td>\n",
       "    </tr>\n",
       "    <tr>\n",
       "      <th>23963</th>\n",
       "      <td>XWING-2</td>\n",
       "      <td>X-Wing Trench Run</td>\n",
       "      <td>2019</td>\n",
       "      <td>158</td>\n",
       "      <td>52</td>\n",
       "      <td>https://cdn.rebrickable.com/media/sets/xwing-2...</td>\n",
       "    </tr>\n",
       "    <tr>\n",
       "      <th>23964</th>\n",
       "      <td>YODACHRON-1</td>\n",
       "      <td>Yoda Chronicles Promotional Set</td>\n",
       "      <td>2013</td>\n",
       "      <td>158</td>\n",
       "      <td>413</td>\n",
       "      <td>https://cdn.rebrickable.com/media/sets/yodachr...</td>\n",
       "    </tr>\n",
       "  </tbody>\n",
       "</table>\n",
       "<p>16493 rows × 6 columns</p>\n",
       "</div>"
      ],
      "text/plain": [
       "                  set_num                             name  year  theme_id  \\\n",
       "2                  0011-2                Town Mini-Figures  1979        67   \n",
       "4                  0012-1               Space Mini-Figures  1979       143   \n",
       "5                  0013-1               Space Mini-Figures  1979       143   \n",
       "6                  0014-1               Space Mini-Figures  1979       143   \n",
       "7                  0015-1               Space Mini-Figures  1979       143   \n",
       "...                   ...                              ...   ...       ...   \n",
       "23952  WIZARD-PORTRAITS-1           Wizard Portraits Tiles  2024       746   \n",
       "23961          XMASTREE-1                   Christmas Tree  2019       410   \n",
       "23962             XWING-1              Mini X-Wing Fighter  2019       158   \n",
       "23963             XWING-2                X-Wing Trench Run  2019       158   \n",
       "23964         YODACHRON-1  Yoda Chronicles Promotional Set  2013       158   \n",
       "\n",
       "       num_parts                                            img_url  \n",
       "2             12  https://cdn.rebrickable.com/media/sets/0011-2.jpg  \n",
       "4             12  https://cdn.rebrickable.com/media/sets/0012-1.jpg  \n",
       "5             12  https://cdn.rebrickable.com/media/sets/0013-1.jpg  \n",
       "6              2  https://cdn.rebrickable.com/media/sets/0014-1.jpg  \n",
       "7             18  https://cdn.rebrickable.com/media/sets/0015-1.jpg  \n",
       "...          ...                                                ...  \n",
       "23952         14  https://cdn.rebrickable.com/media/sets/wizard-...  \n",
       "23961         26  https://cdn.rebrickable.com/media/sets/xmastre...  \n",
       "23962         60  https://cdn.rebrickable.com/media/sets/xwing-1...  \n",
       "23963         52  https://cdn.rebrickable.com/media/sets/xwing-2...  \n",
       "23964        413  https://cdn.rebrickable.com/media/sets/yodachr...  \n",
       "\n",
       "[16493 rows x 6 columns]"
      ]
     },
     "execution_count": 32,
     "metadata": {},
     "output_type": "execute_result"
    }
   ],
   "source": [
    "df_setsonly"
   ]
  },
  {
   "cell_type": "code",
   "execution_count": 33,
   "id": "ce2ea7b3-b186-4886-9a59-a544647cf3ae",
   "metadata": {},
   "outputs": [
    {
     "data": {
      "text/plain": [
       "'Number of rows in sets: 18012 and number of rows on filtered sets (16493, 6)'"
      ]
     },
     "execution_count": 33,
     "metadata": {},
     "output_type": "execute_result"
    }
   ],
   "source": [
    "#check new number of rows\n",
    "f\"Number of rows in sets: {df_sets_pos.shape[0]} and number of rows on filtered sets {df_setsonly.shape}\""
   ]
  },
  {
   "cell_type": "markdown",
   "id": "5b3c5e27-bd75-4869-b815-7f5a42148983",
   "metadata": {},
   "source": [
    " . . . . . . . . . . . . . . . . . . . . . . . . . . . . . . . . . . . . . . . . . . . . . . . . . . . . . . . . . . . . . . . . . . . . . . . . . . . . . . . . . . . . . . . . . . . . . . . . . . . . . . . . . . . . . . . . . . . . . . . . . . . . . . . . . . . . . . . . . . . . "
   ]
  },
  {
   "cell_type": "markdown",
   "id": "8e5ca72f-64cf-4cc6-bc34-47ad382b4bf9",
   "metadata": {},
   "source": [
    "**CREATE AGGREGATED VALUES**"
   ]
  },
  {
   "cell_type": "code",
   "execution_count": 36,
   "id": "84bd09c9-c32b-4533-9b24-972c434bbf4a",
   "metadata": {},
   "outputs": [],
   "source": [
    "#count the total number of True values of is_spare to get the sum of spare parts per inventory\n",
    "#convert data type\n",
    "df_invparts['is_spare'] = df_invparts['is_spare'].astype(bool)\n",
    "\n",
    "#count true values of data type summed by inventory\n",
    "df_spares_count = df_invparts.groupby('inventory_id').agg(sum_spares=('is_spare', 'sum')).reset_index()"
   ]
  },
  {
   "cell_type": "code",
   "execution_count": 37,
   "id": "795f75ae-9baa-44a8-a68c-e0ccd93c2e00",
   "metadata": {},
   "outputs": [],
   "source": [
    "df_unique_colors = df_invparts.groupby('inventory_id').agg(num_colors=('color_id', 'nunique')).reset_index()"
   ]
  },
  {
   "cell_type": "code",
   "execution_count": 38,
   "id": "22b9abb7-1ea0-45cc-bb04-f9c91b160397",
   "metadata": {},
   "outputs": [],
   "source": [
    "#merging tables to build connection between part_num and part_material\n",
    "df_unique_materials = pd.merge(df_invparts, df_parts, on='part_num', how='left')"
   ]
  },
  {
   "cell_type": "code",
   "execution_count": 39,
   "id": "c7ed4073-6e85-449a-9a70-d8232ab14ba2",
   "metadata": {},
   "outputs": [],
   "source": [
    "df_tot_materials = df_unique_materials.groupby('inventory_id').agg(num_materials=('part_material', 'nunique')).reset_index()"
   ]
  },
  {
   "cell_type": "markdown",
   "id": "c1c553e3-8fb0-40d7-950e-73ed671734fa",
   "metadata": {},
   "source": [
    " . . . . . . . . . . . . . . . . . . . . . . . . . . . . . . . . . . . . . . . . . . . . . . . . . . . . . . . . . . . . . . . . . . . . . . . . . . . . . . . . . . . . . . . . . . . . . . . . . . . . . . . . . . . . . . . . . . . . . . . . . . . . . . . . . . . . . . . . . . . . "
   ]
  },
  {
   "cell_type": "code",
   "execution_count": 41,
   "id": "e06cb0e8-eb8e-425a-87a0-0b7c26ed1f52",
   "metadata": {},
   "outputs": [],
   "source": [
    "#create table for aggregated columns\n",
    "df_agg_columns = pd.merge(df_unique_colors, df_tot_materials, on='inventory_id', how='left')\n",
    "df_agg_columns = pd.merge(df_agg_columns, df_spares_count, on='inventory_id', how='left')"
   ]
  },
  {
   "cell_type": "code",
   "execution_count": 42,
   "id": "9af4b514-cf55-4fc5-a32f-55d319559507",
   "metadata": {},
   "outputs": [
    {
     "data": {
      "text/html": [
       "<div>\n",
       "<style scoped>\n",
       "    .dataframe tbody tr th:only-of-type {\n",
       "        vertical-align: middle;\n",
       "    }\n",
       "\n",
       "    .dataframe tbody tr th {\n",
       "        vertical-align: top;\n",
       "    }\n",
       "\n",
       "    .dataframe thead th {\n",
       "        text-align: right;\n",
       "    }\n",
       "</style>\n",
       "<table border=\"1\" class=\"dataframe\">\n",
       "  <thead>\n",
       "    <tr style=\"text-align: right;\">\n",
       "      <th></th>\n",
       "      <th>inventory_id</th>\n",
       "      <th>num_colors</th>\n",
       "      <th>num_materials</th>\n",
       "      <th>sum_spares</th>\n",
       "    </tr>\n",
       "  </thead>\n",
       "  <tbody>\n",
       "    <tr>\n",
       "      <th>0</th>\n",
       "      <td>1</td>\n",
       "      <td>5</td>\n",
       "      <td>1</td>\n",
       "      <td>5</td>\n",
       "    </tr>\n",
       "    <tr>\n",
       "      <th>1</th>\n",
       "      <td>3</td>\n",
       "      <td>9</td>\n",
       "      <td>1</td>\n",
       "      <td>25</td>\n",
       "    </tr>\n",
       "    <tr>\n",
       "      <th>2</th>\n",
       "      <td>4</td>\n",
       "      <td>4</td>\n",
       "      <td>1</td>\n",
       "      <td>12</td>\n",
       "    </tr>\n",
       "    <tr>\n",
       "      <th>3</th>\n",
       "      <td>15</td>\n",
       "      <td>1</td>\n",
       "      <td>1</td>\n",
       "      <td>2</td>\n",
       "    </tr>\n",
       "    <tr>\n",
       "      <th>4</th>\n",
       "      <td>16</td>\n",
       "      <td>2</td>\n",
       "      <td>1</td>\n",
       "      <td>4</td>\n",
       "    </tr>\n",
       "    <tr>\n",
       "      <th>...</th>\n",
       "      <td>...</td>\n",
       "      <td>...</td>\n",
       "      <td>...</td>\n",
       "      <td>...</td>\n",
       "    </tr>\n",
       "    <tr>\n",
       "      <th>34378</th>\n",
       "      <td>242776</td>\n",
       "      <td>2</td>\n",
       "      <td>1</td>\n",
       "      <td>8</td>\n",
       "    </tr>\n",
       "    <tr>\n",
       "      <th>34379</th>\n",
       "      <td>242813</td>\n",
       "      <td>14</td>\n",
       "      <td>2</td>\n",
       "      <td>67</td>\n",
       "    </tr>\n",
       "    <tr>\n",
       "      <th>34380</th>\n",
       "      <td>242822</td>\n",
       "      <td>6</td>\n",
       "      <td>1</td>\n",
       "      <td>22</td>\n",
       "    </tr>\n",
       "    <tr>\n",
       "      <th>34381</th>\n",
       "      <td>242823</td>\n",
       "      <td>9</td>\n",
       "      <td>1</td>\n",
       "      <td>28</td>\n",
       "    </tr>\n",
       "    <tr>\n",
       "      <th>34382</th>\n",
       "      <td>242825</td>\n",
       "      <td>8</td>\n",
       "      <td>1</td>\n",
       "      <td>21</td>\n",
       "    </tr>\n",
       "  </tbody>\n",
       "</table>\n",
       "<p>34383 rows × 4 columns</p>\n",
       "</div>"
      ],
      "text/plain": [
       "       inventory_id  num_colors  num_materials  sum_spares\n",
       "0                 1           5              1           5\n",
       "1                 3           9              1          25\n",
       "2                 4           4              1          12\n",
       "3                15           1              1           2\n",
       "4                16           2              1           4\n",
       "...             ...         ...            ...         ...\n",
       "34378        242776           2              1           8\n",
       "34379        242813          14              2          67\n",
       "34380        242822           6              1          22\n",
       "34381        242823           9              1          28\n",
       "34382        242825           8              1          21\n",
       "\n",
       "[34383 rows x 4 columns]"
      ]
     },
     "execution_count": 42,
     "metadata": {},
     "output_type": "execute_result"
    }
   ],
   "source": [
    "df_agg_columns"
   ]
  },
  {
   "cell_type": "code",
   "execution_count": 43,
   "id": "8c329daa-0a71-4214-b40c-546595ed6bd7",
   "metadata": {},
   "outputs": [],
   "source": [
    "#creating base table for set_num and inventory_id \n",
    "df_base = pd.merge(df_inv, df_setsonly, on='set_num', how='left')"
   ]
  },
  {
   "cell_type": "code",
   "execution_count": 44,
   "id": "0e0a60b2-d111-4231-970a-c39a4ee1f3f2",
   "metadata": {},
   "outputs": [
    {
     "data": {
      "text/plain": [
       "(16493, 6)"
      ]
     },
     "execution_count": 44,
     "metadata": {},
     "output_type": "execute_result"
    }
   ],
   "source": [
    "#baseline for set_num \n",
    "df_setsonly.shape"
   ]
  },
  {
   "cell_type": "code",
   "execution_count": 45,
   "id": "5ec3ee6e-a5bc-4f6f-b55f-6c4949f43a0d",
   "metadata": {},
   "outputs": [
    {
     "data": {
      "text/html": [
       "<div>\n",
       "<style scoped>\n",
       "    .dataframe tbody tr th:only-of-type {\n",
       "        vertical-align: middle;\n",
       "    }\n",
       "\n",
       "    .dataframe tbody tr th {\n",
       "        vertical-align: top;\n",
       "    }\n",
       "\n",
       "    .dataframe thead th {\n",
       "        text-align: right;\n",
       "    }\n",
       "</style>\n",
       "<table border=\"1\" class=\"dataframe\">\n",
       "  <thead>\n",
       "    <tr style=\"text-align: right;\">\n",
       "      <th></th>\n",
       "      <th>id</th>\n",
       "      <th>version</th>\n",
       "      <th>set_num</th>\n",
       "      <th>name</th>\n",
       "      <th>year</th>\n",
       "      <th>theme_id</th>\n",
       "      <th>num_parts</th>\n",
       "      <th>img_url</th>\n",
       "    </tr>\n",
       "  </thead>\n",
       "  <tbody>\n",
       "    <tr>\n",
       "      <th>0</th>\n",
       "      <td>1</td>\n",
       "      <td>1</td>\n",
       "      <td>7922-1</td>\n",
       "      <td>McDonald's Sports Set Number 6 - Orange Vest S...</td>\n",
       "      <td>2004.0</td>\n",
       "      <td>460.0</td>\n",
       "      <td>5.0</td>\n",
       "      <td>https://cdn.rebrickable.com/media/sets/7922-1.jpg</td>\n",
       "    </tr>\n",
       "    <tr>\n",
       "      <th>1</th>\n",
       "      <td>3</td>\n",
       "      <td>1</td>\n",
       "      <td>3931-1</td>\n",
       "      <td>Emma's Splash Pool</td>\n",
       "      <td>2012.0</td>\n",
       "      <td>494.0</td>\n",
       "      <td>43.0</td>\n",
       "      <td>https://cdn.rebrickable.com/media/sets/3931-1.jpg</td>\n",
       "    </tr>\n",
       "    <tr>\n",
       "      <th>2</th>\n",
       "      <td>4</td>\n",
       "      <td>1</td>\n",
       "      <td>6942-1</td>\n",
       "      <td>Zo Weevil</td>\n",
       "      <td>1999.0</td>\n",
       "      <td>134.0</td>\n",
       "      <td>20.0</td>\n",
       "      <td>https://cdn.rebrickable.com/media/sets/6942-1.jpg</td>\n",
       "    </tr>\n",
       "    <tr>\n",
       "      <th>3</th>\n",
       "      <td>15</td>\n",
       "      <td>1</td>\n",
       "      <td>5158-1</td>\n",
       "      <td>T-Junction, Circle Plates</td>\n",
       "      <td>1990.0</td>\n",
       "      <td>443.0</td>\n",
       "      <td>2.0</td>\n",
       "      <td>https://cdn.rebrickable.com/media/sets/5158-1.jpg</td>\n",
       "    </tr>\n",
       "    <tr>\n",
       "      <th>4</th>\n",
       "      <td>16</td>\n",
       "      <td>1</td>\n",
       "      <td>903-1</td>\n",
       "      <td>Train Wheels and Couplers</td>\n",
       "      <td>1969.0</td>\n",
       "      <td>371.0</td>\n",
       "      <td>10.0</td>\n",
       "      <td>https://cdn.rebrickable.com/media/sets/903-1.jpg</td>\n",
       "    </tr>\n",
       "    <tr>\n",
       "      <th>...</th>\n",
       "      <td>...</td>\n",
       "      <td>...</td>\n",
       "      <td>...</td>\n",
       "      <td>...</td>\n",
       "      <td>...</td>\n",
       "      <td>...</td>\n",
       "      <td>...</td>\n",
       "      <td>...</td>\n",
       "    </tr>\n",
       "    <tr>\n",
       "      <th>40559</th>\n",
       "      <td>242813</td>\n",
       "      <td>3</td>\n",
       "      <td>9786-1</td>\n",
       "      <td>Robo Technology Set [USB Cable]</td>\n",
       "      <td>2003.0</td>\n",
       "      <td>520.0</td>\n",
       "      <td>221.0</td>\n",
       "      <td>https://cdn.rebrickable.com/media/sets/9786-1.jpg</td>\n",
       "    </tr>\n",
       "    <tr>\n",
       "      <th>40560</th>\n",
       "      <td>242822</td>\n",
       "      <td>1</td>\n",
       "      <td>fig-015530</td>\n",
       "      <td>NaN</td>\n",
       "      <td>NaN</td>\n",
       "      <td>NaN</td>\n",
       "      <td>NaN</td>\n",
       "      <td>NaN</td>\n",
       "    </tr>\n",
       "    <tr>\n",
       "      <th>40561</th>\n",
       "      <td>242823</td>\n",
       "      <td>1</td>\n",
       "      <td>fig-015531</td>\n",
       "      <td>NaN</td>\n",
       "      <td>NaN</td>\n",
       "      <td>NaN</td>\n",
       "      <td>NaN</td>\n",
       "      <td>NaN</td>\n",
       "    </tr>\n",
       "    <tr>\n",
       "      <th>40562</th>\n",
       "      <td>242825</td>\n",
       "      <td>1</td>\n",
       "      <td>fig-015532</td>\n",
       "      <td>NaN</td>\n",
       "      <td>NaN</td>\n",
       "      <td>NaN</td>\n",
       "      <td>NaN</td>\n",
       "      <td>NaN</td>\n",
       "    </tr>\n",
       "    <tr>\n",
       "      <th>40563</th>\n",
       "      <td>242932</td>\n",
       "      <td>1</td>\n",
       "      <td>952410-1</td>\n",
       "      <td>NaN</td>\n",
       "      <td>NaN</td>\n",
       "      <td>NaN</td>\n",
       "      <td>NaN</td>\n",
       "      <td>NaN</td>\n",
       "    </tr>\n",
       "  </tbody>\n",
       "</table>\n",
       "<p>40564 rows × 8 columns</p>\n",
       "</div>"
      ],
      "text/plain": [
       "           id  version     set_num  \\\n",
       "0           1        1      7922-1   \n",
       "1           3        1      3931-1   \n",
       "2           4        1      6942-1   \n",
       "3          15        1      5158-1   \n",
       "4          16        1       903-1   \n",
       "...       ...      ...         ...   \n",
       "40559  242813        3      9786-1   \n",
       "40560  242822        1  fig-015530   \n",
       "40561  242823        1  fig-015531   \n",
       "40562  242825        1  fig-015532   \n",
       "40563  242932        1    952410-1   \n",
       "\n",
       "                                                    name    year  theme_id  \\\n",
       "0      McDonald's Sports Set Number 6 - Orange Vest S...  2004.0     460.0   \n",
       "1                                     Emma's Splash Pool  2012.0     494.0   \n",
       "2                                              Zo Weevil  1999.0     134.0   \n",
       "3                              T-Junction, Circle Plates  1990.0     443.0   \n",
       "4                              Train Wheels and Couplers  1969.0     371.0   \n",
       "...                                                  ...     ...       ...   \n",
       "40559                    Robo Technology Set [USB Cable]  2003.0     520.0   \n",
       "40560                                                NaN     NaN       NaN   \n",
       "40561                                                NaN     NaN       NaN   \n",
       "40562                                                NaN     NaN       NaN   \n",
       "40563                                                NaN     NaN       NaN   \n",
       "\n",
       "       num_parts                                            img_url  \n",
       "0            5.0  https://cdn.rebrickable.com/media/sets/7922-1.jpg  \n",
       "1           43.0  https://cdn.rebrickable.com/media/sets/3931-1.jpg  \n",
       "2           20.0  https://cdn.rebrickable.com/media/sets/6942-1.jpg  \n",
       "3            2.0  https://cdn.rebrickable.com/media/sets/5158-1.jpg  \n",
       "4           10.0   https://cdn.rebrickable.com/media/sets/903-1.jpg  \n",
       "...          ...                                                ...  \n",
       "40559      221.0  https://cdn.rebrickable.com/media/sets/9786-1.jpg  \n",
       "40560        NaN                                                NaN  \n",
       "40561        NaN                                                NaN  \n",
       "40562        NaN                                                NaN  \n",
       "40563        NaN                                                NaN  \n",
       "\n",
       "[40564 rows x 8 columns]"
      ]
     },
     "execution_count": 45,
     "metadata": {},
     "output_type": "execute_result"
    }
   ],
   "source": [
    "df_base"
   ]
  },
  {
   "cell_type": "code",
   "execution_count": 46,
   "id": "780bd17e-cc42-4e3e-b5b3-113942dccee1",
   "metadata": {},
   "outputs": [],
   "source": [
    "#dropping columns\n",
    "df_base = df_base.drop(columns=['version', 'name', 'year', 'img_url'])"
   ]
  },
  {
   "cell_type": "code",
   "execution_count": 47,
   "id": "6d7dcd54-e4aa-43d6-8fc5-0853a1d463f8",
   "metadata": {},
   "outputs": [],
   "source": [
    "#rename id for clarity to inventory_id\n",
    "df_base = df_base.rename(columns={'id': 'inventory_id'})"
   ]
  },
  {
   "cell_type": "code",
   "execution_count": 48,
   "id": "c9d78e30-e078-49b9-8289-fd8fc8d0c00d",
   "metadata": {},
   "outputs": [
    {
     "data": {
      "text/plain": [
       "inventory_id      int64\n",
       "set_num          object\n",
       "theme_id        float64\n",
       "num_parts       float64\n",
       "dtype: object"
      ]
     },
     "execution_count": 48,
     "metadata": {},
     "output_type": "execute_result"
    }
   ],
   "source": [
    "#check data types for merge\n",
    "df_base.dtypes"
   ]
  },
  {
   "cell_type": "code",
   "execution_count": 49,
   "id": "e5c24f13-a14f-4122-a11f-8f45a5567226",
   "metadata": {},
   "outputs": [
    {
     "data": {
      "text/plain": [
       "inventory_id     int64\n",
       "num_colors       int64\n",
       "num_materials    int64\n",
       "sum_spares       int64\n",
       "dtype: object"
      ]
     },
     "execution_count": 49,
     "metadata": {},
     "output_type": "execute_result"
    }
   ],
   "source": [
    "df_agg_columns.dtypes"
   ]
  },
  {
   "cell_type": "code",
   "execution_count": 50,
   "id": "3e8be0fc-7e55-405c-a29d-b658bbc3a34a",
   "metadata": {},
   "outputs": [
    {
     "data": {
      "text/plain": [
       "(40564, 4)"
      ]
     },
     "execution_count": 50,
     "metadata": {},
     "output_type": "execute_result"
    }
   ],
   "source": [
    "df_base.shape"
   ]
  },
  {
   "cell_type": "code",
   "execution_count": 51,
   "id": "885941f4-e4f8-4af0-8211-eb72060e600a",
   "metadata": {},
   "outputs": [
    {
     "data": {
      "text/plain": [
       "(34383, 4)"
      ]
     },
     "execution_count": 51,
     "metadata": {},
     "output_type": "execute_result"
    }
   ],
   "source": [
    "df_agg_columns.shape"
   ]
  },
  {
   "cell_type": "code",
   "execution_count": 52,
   "id": "09fb2b30-13a5-4227-ba05-da1ce7e5156f",
   "metadata": {},
   "outputs": [],
   "source": [
    "#merging filtered variables with aggregated variables\n",
    "df_catalog_sub = pd.merge(df_base, df_agg_columns, on='inventory_id', how='left')"
   ]
  },
  {
   "cell_type": "code",
   "execution_count": 53,
   "id": "2764f74e-3ac0-4af8-b569-22d7582f28ed",
   "metadata": {},
   "outputs": [
    {
     "data": {
      "text/plain": [
       "(40564, 7)"
      ]
     },
     "execution_count": 53,
     "metadata": {},
     "output_type": "execute_result"
    }
   ],
   "source": [
    "#check total number of rows\n",
    "df_catalog_sub.shape"
   ]
  },
  {
   "cell_type": "code",
   "execution_count": 54,
   "id": "e6c55ec1-b64f-4828-ac0b-7684f727f6e7",
   "metadata": {},
   "outputs": [
    {
     "data": {
      "text/plain": [
       "0"
      ]
     },
     "execution_count": 54,
     "metadata": {},
     "output_type": "execute_result"
    }
   ],
   "source": [
    "#check for duplicates\n",
    "df_catalog_sub.duplicated().sum()"
   ]
  },
  {
   "cell_type": "code",
   "execution_count": 55,
   "id": "3a341c12-aa61-48bd-aa9c-e0e5dd9a2271",
   "metadata": {},
   "outputs": [
    {
     "data": {
      "text/plain": [
       "inventory_id         0\n",
       "set_num              0\n",
       "theme_id         22414\n",
       "num_parts        22414\n",
       "num_colors        6181\n",
       "num_materials     6181\n",
       "sum_spares        6181\n",
       "dtype: int64"
      ]
     },
     "execution_count": 55,
     "metadata": {},
     "output_type": "execute_result"
    }
   ],
   "source": [
    "#check for missing values\n",
    "df_catalog_sub.isnull().sum()"
   ]
  },
  {
   "cell_type": "markdown",
   "id": "7cfcc0d3-1a5b-4e39-b133-6a11c53ff75c",
   "metadata": {},
   "source": [
    "> I will keep the rows with NaNs and reassess after merging, since the LEGO sales table is the primary table and might already filter out the missing values. "
   ]
  },
  {
   "cell_type": "markdown",
   "id": "e7199166-1818-476e-ba77-223646b403fc",
   "metadata": {},
   "source": [
    " . . . . . . . . . . . . . . . . . . . . . . . . . . . . . . . . . . . . . . . . . . . . . . . . . . . . . . . . . . . . . . . . . . . . . . . . . . . . . . . . . . . . . . . . . . . . . . . . . . . . . . . . . . . . . . . . . . . . . . . . . . . . . . . . . . . . . . . . . . . . "
   ]
  },
  {
   "cell_type": "markdown",
   "id": "58f05b59-18cb-46fb-9f4d-3151e88a303d",
   "metadata": {},
   "source": [
    "### **4. EXPORT DATA**"
   ]
  },
  {
   "cell_type": "code",
   "execution_count": 59,
   "id": "a3080d2f-6a0f-4485-aec7-f1762520e89c",
   "metadata": {},
   "outputs": [],
   "source": [
    "#export to csv\n",
    "df_catalog_sub.to_csv(os.path.join(path, '2 Data','Prepared data', 'lego_catalog_sub.csv'))"
   ]
  }
 ],
 "metadata": {
  "kernelspec": {
   "display_name": "Python 3 (ipykernel)",
   "language": "python",
   "name": "python3"
  },
  "language_info": {
   "codemirror_mode": {
    "name": "ipython",
    "version": 3
   },
   "file_extension": ".py",
   "mimetype": "text/x-python",
   "name": "python",
   "nbconvert_exporter": "python",
   "pygments_lexer": "ipython3",
   "version": "3.12.4"
  }
 },
 "nbformat": 4,
 "nbformat_minor": 5
}
