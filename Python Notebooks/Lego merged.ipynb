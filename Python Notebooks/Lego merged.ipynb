{
 "cells": [
  {
   "cell_type": "markdown",
   "id": "498181fd-1272-4361-900c-ed1cf90ccbb5",
   "metadata": {},
   "source": [
    "## **Merging the dataset LEGO sales sub with LEGO catalog sub**"
   ]
  },
  {
   "cell_type": "markdown",
   "id": "2b106211-94a4-4669-9c5b-140c3dd8c5a0",
   "metadata": {},
   "source": [
    "### **1. SETUP NOTEBOOK**"
   ]
  },
  {
   "cell_type": "code",
   "execution_count": 4,
   "id": "0dbdc1f7-41ce-4292-8362-b60298fffab4",
   "metadata": {},
   "outputs": [],
   "source": [
    "# import libraries\n",
    "import pandas as pd\n",
    "import numpy as np\n",
    "import os\n",
    "from pathlib import Path"
   ]
  },
  {
   "cell_type": "code",
   "execution_count": 5,
   "id": "39649fcb-90a3-4994-bcb9-1e65209844a0",
   "metadata": {},
   "outputs": [],
   "source": [
    "# get the current working directory as a Path object\n",
    "path = os.getcwd()\n",
    "\n",
    "# update the path to parent folder\n",
    "path = os.path.abspath(os.path.join(path, os.pardir))"
   ]
  },
  {
   "cell_type": "code",
   "execution_count": 6,
   "id": "16cb568f-dfc5-464b-984d-6fb9de659b43",
   "metadata": {},
   "outputs": [],
   "source": [
    "#import LEGO sales sub\n",
    "df_sales_sub = pd.read_csv(os.path.join(path, '2 Data', 'Prepared data', 'lego_sales_sub.csv'))\n",
    "\n",
    "#import LEGO catalog sub\n",
    "df_cat_sub = pd.read_csv(os.path.join(path, '2 Data', 'Prepared data', 'lego_catalog_sub.csv'))"
   ]
  },
  {
   "cell_type": "markdown",
   "id": "319f2401-9cab-410a-9765-dc7ab8ef003f",
   "metadata": {},
   "source": [
    " . . . . . . . . . . . . . . . . . . . . . . . . . . . . . . . . . . . . . . . . . . . . . . . . . . . . . . . . . . . . . . . . . . . . . . . . . . . . . . . . . . . . . . . . . . . . . . . . . . . . . . . . . . . . . . . . . . . . . . . . . . . . . . . . . . . . . . . . . . . . "
   ]
  },
  {
   "cell_type": "code",
   "execution_count": 8,
   "id": "31d20a49-4e76-42f9-851e-e0ab580d4111",
   "metadata": {},
   "outputs": [
    {
     "data": {
      "text/plain": [
       "(7703, 28)"
      ]
     },
     "execution_count": 8,
     "metadata": {},
     "output_type": "execute_result"
    }
   ],
   "source": [
    "df_sales_sub.shape"
   ]
  },
  {
   "cell_type": "code",
   "execution_count": 9,
   "id": "79b3a84a-8fea-4bb3-b125-fb2d711fb01d",
   "metadata": {},
   "outputs": [
    {
     "data": {
      "text/plain": [
       "(40564, 8)"
      ]
     },
     "execution_count": 9,
     "metadata": {},
     "output_type": "execute_result"
    }
   ],
   "source": [
    "df_cat_sub.shape"
   ]
  },
  {
   "cell_type": "code",
   "execution_count": 10,
   "id": "96b16259-09f7-4940-b9f5-07f3d70d4e92",
   "metadata": {},
   "outputs": [
    {
     "data": {
      "text/html": [
       "<div>\n",
       "<style scoped>\n",
       "    .dataframe tbody tr th:only-of-type {\n",
       "        vertical-align: middle;\n",
       "    }\n",
       "\n",
       "    .dataframe tbody tr th {\n",
       "        vertical-align: top;\n",
       "    }\n",
       "\n",
       "    .dataframe thead th {\n",
       "        text-align: right;\n",
       "    }\n",
       "</style>\n",
       "<table border=\"1\" class=\"dataframe\">\n",
       "  <thead>\n",
       "    <tr style=\"text-align: right;\">\n",
       "      <th></th>\n",
       "      <th>Unnamed: 0</th>\n",
       "      <th>setID</th>\n",
       "      <th>number</th>\n",
       "      <th>numberVariant</th>\n",
       "      <th>name</th>\n",
       "      <th>year</th>\n",
       "      <th>theme</th>\n",
       "      <th>themeGroup</th>\n",
       "      <th>subtheme</th>\n",
       "      <th>category</th>\n",
       "      <th>...</th>\n",
       "      <th>instructionsCount</th>\n",
       "      <th>minAge</th>\n",
       "      <th>US_retailPrice</th>\n",
       "      <th>UK_retailPrice</th>\n",
       "      <th>CA_retailPrice</th>\n",
       "      <th>DE_retailPrice</th>\n",
       "      <th>PL_retailPrice</th>\n",
       "      <th>status</th>\n",
       "      <th>year_time</th>\n",
       "      <th>year_period</th>\n",
       "    </tr>\n",
       "  </thead>\n",
       "  <tbody>\n",
       "    <tr>\n",
       "      <th>0</th>\n",
       "      <td>0</td>\n",
       "      <td>34386</td>\n",
       "      <td>10312</td>\n",
       "      <td>1</td>\n",
       "      <td>Jazz Club</td>\n",
       "      <td>2023</td>\n",
       "      <td>Icons</td>\n",
       "      <td>Model making</td>\n",
       "      <td>Modular Buildings Collection</td>\n",
       "      <td>Normal</td>\n",
       "      <td>...</td>\n",
       "      <td>9</td>\n",
       "      <td>18.0</td>\n",
       "      <td>229.99</td>\n",
       "      <td>199.99</td>\n",
       "      <td>299.99</td>\n",
       "      <td>229.99</td>\n",
       "      <td>1099.99</td>\n",
       "      <td>Available now</td>\n",
       "      <td>2023-01-01</td>\n",
       "      <td>2023</td>\n",
       "    </tr>\n",
       "    <tr>\n",
       "      <th>1</th>\n",
       "      <td>19</td>\n",
       "      <td>34527</td>\n",
       "      <td>71038</td>\n",
       "      <td>7</td>\n",
       "      <td>Queen of Hearts</td>\n",
       "      <td>2023</td>\n",
       "      <td>Collectable Minifigures</td>\n",
       "      <td>Miscellaneous</td>\n",
       "      <td>Disney 100</td>\n",
       "      <td>Normal</td>\n",
       "      <td>...</td>\n",
       "      <td>0</td>\n",
       "      <td>5.0</td>\n",
       "      <td>NaN</td>\n",
       "      <td>NaN</td>\n",
       "      <td>NaN</td>\n",
       "      <td>NaN</td>\n",
       "      <td>17.99</td>\n",
       "      <td>Available now</td>\n",
       "      <td>2023-01-01</td>\n",
       "      <td>2023</td>\n",
       "    </tr>\n",
       "    <tr>\n",
       "      <th>2</th>\n",
       "      <td>124</td>\n",
       "      <td>34528</td>\n",
       "      <td>71038</td>\n",
       "      <td>8</td>\n",
       "      <td>Aurora</td>\n",
       "      <td>2023</td>\n",
       "      <td>Collectable Minifigures</td>\n",
       "      <td>Miscellaneous</td>\n",
       "      <td>Disney 100</td>\n",
       "      <td>Normal</td>\n",
       "      <td>...</td>\n",
       "      <td>0</td>\n",
       "      <td>5.0</td>\n",
       "      <td>NaN</td>\n",
       "      <td>NaN</td>\n",
       "      <td>NaN</td>\n",
       "      <td>NaN</td>\n",
       "      <td>17.99</td>\n",
       "      <td>Temporarily out of stock</td>\n",
       "      <td>2023-01-01</td>\n",
       "      <td>2023</td>\n",
       "    </tr>\n",
       "    <tr>\n",
       "      <th>3</th>\n",
       "      <td>229</td>\n",
       "      <td>34520</td>\n",
       "      <td>71038</td>\n",
       "      <td>0</td>\n",
       "      <td>LEGO Minifigures - Disney 100 Series {Random bag}</td>\n",
       "      <td>2023</td>\n",
       "      <td>Collectable Minifigures</td>\n",
       "      <td>Miscellaneous</td>\n",
       "      <td>Disney 100</td>\n",
       "      <td>Random</td>\n",
       "      <td>...</td>\n",
       "      <td>0</td>\n",
       "      <td>5.0</td>\n",
       "      <td>NaN</td>\n",
       "      <td>NaN</td>\n",
       "      <td>NaN</td>\n",
       "      <td>NaN</td>\n",
       "      <td>17.99</td>\n",
       "      <td>Coming Soon</td>\n",
       "      <td>2023-01-01</td>\n",
       "      <td>2023</td>\n",
       "    </tr>\n",
       "    <tr>\n",
       "      <th>4</th>\n",
       "      <td>334</td>\n",
       "      <td>34521</td>\n",
       "      <td>71038</td>\n",
       "      <td>1</td>\n",
       "      <td>Oswald the Lucky Rabbit</td>\n",
       "      <td>2023</td>\n",
       "      <td>Collectable Minifigures</td>\n",
       "      <td>Miscellaneous</td>\n",
       "      <td>Disney 100</td>\n",
       "      <td>Normal</td>\n",
       "      <td>...</td>\n",
       "      <td>2</td>\n",
       "      <td>5.0</td>\n",
       "      <td>NaN</td>\n",
       "      <td>NaN</td>\n",
       "      <td>NaN</td>\n",
       "      <td>NaN</td>\n",
       "      <td>17.99</td>\n",
       "      <td>Coming Soon</td>\n",
       "      <td>2023-01-01</td>\n",
       "      <td>2023</td>\n",
       "    </tr>\n",
       "  </tbody>\n",
       "</table>\n",
       "<p>5 rows × 28 columns</p>\n",
       "</div>"
      ],
      "text/plain": [
       "   Unnamed: 0  setID  number  numberVariant  \\\n",
       "0           0  34386   10312              1   \n",
       "1          19  34527   71038              7   \n",
       "2         124  34528   71038              8   \n",
       "3         229  34520   71038              0   \n",
       "4         334  34521   71038              1   \n",
       "\n",
       "                                                name  year  \\\n",
       "0                                          Jazz Club  2023   \n",
       "1                                    Queen of Hearts  2023   \n",
       "2                                             Aurora  2023   \n",
       "3  LEGO Minifigures - Disney 100 Series {Random bag}  2023   \n",
       "4                            Oswald the Lucky Rabbit  2023   \n",
       "\n",
       "                     theme     themeGroup                      subtheme  \\\n",
       "0                    Icons   Model making  Modular Buildings Collection   \n",
       "1  Collectable Minifigures  Miscellaneous                    Disney 100   \n",
       "2  Collectable Minifigures  Miscellaneous                    Disney 100   \n",
       "3  Collectable Minifigures  Miscellaneous                    Disney 100   \n",
       "4  Collectable Minifigures  Miscellaneous                    Disney 100   \n",
       "\n",
       "  category  ...  instructionsCount  minAge  US_retailPrice  UK_retailPrice  \\\n",
       "0   Normal  ...                  9    18.0          229.99          199.99   \n",
       "1   Normal  ...                  0     5.0             NaN             NaN   \n",
       "2   Normal  ...                  0     5.0             NaN             NaN   \n",
       "3   Random  ...                  0     5.0             NaN             NaN   \n",
       "4   Normal  ...                  2     5.0             NaN             NaN   \n",
       "\n",
       "   CA_retailPrice  DE_retailPrice PL_retailPrice                    status  \\\n",
       "0          299.99          229.99        1099.99             Available now   \n",
       "1             NaN             NaN          17.99             Available now   \n",
       "2             NaN             NaN          17.99  Temporarily out of stock   \n",
       "3             NaN             NaN          17.99               Coming Soon   \n",
       "4             NaN             NaN          17.99               Coming Soon   \n",
       "\n",
       "    year_time  year_period  \n",
       "0  2023-01-01         2023  \n",
       "1  2023-01-01         2023  \n",
       "2  2023-01-01         2023  \n",
       "3  2023-01-01         2023  \n",
       "4  2023-01-01         2023  \n",
       "\n",
       "[5 rows x 28 columns]"
      ]
     },
     "execution_count": 10,
     "metadata": {},
     "output_type": "execute_result"
    }
   ],
   "source": [
    "df_sales_sub.head()"
   ]
  },
  {
   "cell_type": "code",
   "execution_count": 11,
   "id": "2b22dc83-e680-4d3a-8e8d-1b5c5a11459b",
   "metadata": {},
   "outputs": [
    {
     "data": {
      "text/html": [
       "<div>\n",
       "<style scoped>\n",
       "    .dataframe tbody tr th:only-of-type {\n",
       "        vertical-align: middle;\n",
       "    }\n",
       "\n",
       "    .dataframe tbody tr th {\n",
       "        vertical-align: top;\n",
       "    }\n",
       "\n",
       "    .dataframe thead th {\n",
       "        text-align: right;\n",
       "    }\n",
       "</style>\n",
       "<table border=\"1\" class=\"dataframe\">\n",
       "  <thead>\n",
       "    <tr style=\"text-align: right;\">\n",
       "      <th></th>\n",
       "      <th>Unnamed: 0</th>\n",
       "      <th>inventory_id</th>\n",
       "      <th>set_num</th>\n",
       "      <th>theme_id</th>\n",
       "      <th>num_parts</th>\n",
       "      <th>num_colors</th>\n",
       "      <th>num_materials</th>\n",
       "      <th>sum_spares</th>\n",
       "    </tr>\n",
       "  </thead>\n",
       "  <tbody>\n",
       "    <tr>\n",
       "      <th>0</th>\n",
       "      <td>0</td>\n",
       "      <td>1</td>\n",
       "      <td>7922-1</td>\n",
       "      <td>460.0</td>\n",
       "      <td>5.0</td>\n",
       "      <td>5.0</td>\n",
       "      <td>1.0</td>\n",
       "      <td>5.0</td>\n",
       "    </tr>\n",
       "    <tr>\n",
       "      <th>1</th>\n",
       "      <td>1</td>\n",
       "      <td>3</td>\n",
       "      <td>3931-1</td>\n",
       "      <td>494.0</td>\n",
       "      <td>43.0</td>\n",
       "      <td>9.0</td>\n",
       "      <td>1.0</td>\n",
       "      <td>25.0</td>\n",
       "    </tr>\n",
       "    <tr>\n",
       "      <th>2</th>\n",
       "      <td>2</td>\n",
       "      <td>4</td>\n",
       "      <td>6942-1</td>\n",
       "      <td>134.0</td>\n",
       "      <td>20.0</td>\n",
       "      <td>4.0</td>\n",
       "      <td>1.0</td>\n",
       "      <td>12.0</td>\n",
       "    </tr>\n",
       "    <tr>\n",
       "      <th>3</th>\n",
       "      <td>3</td>\n",
       "      <td>15</td>\n",
       "      <td>5158-1</td>\n",
       "      <td>443.0</td>\n",
       "      <td>2.0</td>\n",
       "      <td>1.0</td>\n",
       "      <td>1.0</td>\n",
       "      <td>2.0</td>\n",
       "    </tr>\n",
       "    <tr>\n",
       "      <th>4</th>\n",
       "      <td>4</td>\n",
       "      <td>16</td>\n",
       "      <td>903-1</td>\n",
       "      <td>371.0</td>\n",
       "      <td>10.0</td>\n",
       "      <td>2.0</td>\n",
       "      <td>1.0</td>\n",
       "      <td>4.0</td>\n",
       "    </tr>\n",
       "  </tbody>\n",
       "</table>\n",
       "</div>"
      ],
      "text/plain": [
       "   Unnamed: 0  inventory_id set_num  theme_id  num_parts  num_colors  \\\n",
       "0           0             1  7922-1     460.0        5.0         5.0   \n",
       "1           1             3  3931-1     494.0       43.0         9.0   \n",
       "2           2             4  6942-1     134.0       20.0         4.0   \n",
       "3           3            15  5158-1     443.0        2.0         1.0   \n",
       "4           4            16   903-1     371.0       10.0         2.0   \n",
       "\n",
       "   num_materials  sum_spares  \n",
       "0            1.0         5.0  \n",
       "1            1.0        25.0  \n",
       "2            1.0        12.0  \n",
       "3            1.0         2.0  \n",
       "4            1.0         4.0  "
      ]
     },
     "execution_count": 11,
     "metadata": {},
     "output_type": "execute_result"
    }
   ],
   "source": [
    "df_cat_sub.head()"
   ]
  },
  {
   "cell_type": "code",
   "execution_count": 12,
   "id": "c28d79d7-4eca-4016-acba-8de37a992102",
   "metadata": {},
   "outputs": [
    {
     "data": {
      "text/plain": [
       "Index(['Unnamed: 0', 'setID', 'number', 'numberVariant', 'name', 'year',\n",
       "       'theme', 'themeGroup', 'subtheme', 'category', 'pieces', 'minifigs',\n",
       "       'ownedBy', 'wantedBy', 'rating', 'reviewCount', 'packagingType',\n",
       "       'availability', 'instructionsCount', 'minAge', 'US_retailPrice',\n",
       "       'UK_retailPrice', 'CA_retailPrice', 'DE_retailPrice', 'PL_retailPrice',\n",
       "       'status', 'year_time', 'year_period'],\n",
       "      dtype='object')"
      ]
     },
     "execution_count": 12,
     "metadata": {},
     "output_type": "execute_result"
    }
   ],
   "source": [
    "df_sales_sub.columns"
   ]
  },
  {
   "cell_type": "code",
   "execution_count": 13,
   "id": "a27c8a30-0971-412b-83c3-30c004b2bc3d",
   "metadata": {},
   "outputs": [
    {
     "data": {
      "text/plain": [
       "Index(['Unnamed: 0', 'inventory_id', 'set_num', 'theme_id', 'num_parts',\n",
       "       'num_colors', 'num_materials', 'sum_spares'],\n",
       "      dtype='object')"
      ]
     },
     "execution_count": 13,
     "metadata": {},
     "output_type": "execute_result"
    }
   ],
   "source": [
    "df_cat_sub.columns"
   ]
  },
  {
   "cell_type": "code",
   "execution_count": 14,
   "id": "213cc967-3ee2-41cc-bb52-0a972075fa02",
   "metadata": {},
   "outputs": [],
   "source": [
    "#drop columns not relevant for analysis \n",
    "df_sales_sub = df_sales_sub.drop(columns='Unnamed: 0')"
   ]
  },
  {
   "cell_type": "code",
   "execution_count": 15,
   "id": "fe630a72-2293-4e7b-96b0-710fc370729a",
   "metadata": {},
   "outputs": [],
   "source": [
    "df_cat_sub = df_cat_sub.drop(columns=['Unnamed: 0', 'inventory_id'])"
   ]
  },
  {
   "cell_type": "markdown",
   "id": "b2917bb1-fcbb-4670-9690-1135d73569bd",
   "metadata": {},
   "source": [
    " . . . . . . . . . . . . . . . . . . . . . . . . . . . . . . . . . . . . . . . . . . . . . . . . . . . . . . . . . . . . . . . . . . . . . . . . . . . . . . . . . . . . . . . . . . . . . . . . . . . . . . . . . . . . . . . . . . . . . . . . . . . . . . . . . . . . . . . . . . . . "
   ]
  },
  {
   "cell_type": "markdown",
   "id": "c971e73d-8001-4c49-9f71-7b064be2e10a",
   "metadata": {},
   "source": [
    "**Prepare join key for merge**"
   ]
  },
  {
   "cell_type": "code",
   "execution_count": 18,
   "id": "b3aeeafe-82d9-4051-9e44-ff918504ee21",
   "metadata": {},
   "outputs": [],
   "source": [
    "#create column for df_sales_sub data grain\n",
    "df_sales_sub['set_number'] = df_sales_sub['number'].astype(str) + '-' + df_sales_sub['numberVariant'].astype(str)"
   ]
  },
  {
   "cell_type": "code",
   "execution_count": 19,
   "id": "9832e3f1-4296-4804-81f2-8a26da550131",
   "metadata": {},
   "outputs": [],
   "source": [
    "# Move the 'set_number' column to the first position\n",
    "# Get a list of all columns\n",
    "cols = df_sales_sub.columns.tolist()\n",
    "\n",
    "# Remove 'set_number' from its current position and insert it at the beginning\n",
    "cols.insert(0, cols.pop(cols.index('set_number')))\n",
    "\n",
    "# Reorder the DataFrame based on the modified list of columns\n",
    "df_sales_sub = df_sales_sub[cols]"
   ]
  },
  {
   "cell_type": "code",
   "execution_count": 20,
   "id": "db42c95c-93b1-4ecf-afb0-910f620c0725",
   "metadata": {},
   "outputs": [],
   "source": [
    "#drop columns not relevant for analysis \n",
    "df_sales_sub = df_sales_sub.drop(columns='number')"
   ]
  },
  {
   "cell_type": "code",
   "execution_count": 21,
   "id": "b3efbe20-da05-4396-ae30-b77938f307c4",
   "metadata": {},
   "outputs": [],
   "source": [
    "df_sales_sub = df_sales_sub.drop(columns='numberVariant')"
   ]
  },
  {
   "cell_type": "code",
   "execution_count": 22,
   "id": "fd5f10b0-0d1d-4a3d-8bb8-e276cee4ba8e",
   "metadata": {},
   "outputs": [],
   "source": [
    "df_cat_sub['set_num'] = df_cat_sub['set_num'].astype('string')"
   ]
  },
  {
   "cell_type": "code",
   "execution_count": 23,
   "id": "3a47f1f3-7168-4dc6-9878-f52a1683a7a9",
   "metadata": {},
   "outputs": [],
   "source": [
    "#make join keys consistent\n",
    "df_sales_sub['set_number'] = df_sales_sub['set_number'].str.strip()\n",
    "df_cat_sub['set_num'] = df_cat_sub['set_num'].str.strip()"
   ]
  },
  {
   "cell_type": "markdown",
   "id": "b7653167-f399-47f1-be07-9cd1b055603c",
   "metadata": {},
   "source": [
    " . . . . . . . . . . . . . . . . . . . . . . . . . . . . . . . . . . . . . . . . . . . . . . . . . . . . . . . . . . . . . . . . . . . . . . . . . . . . . . . . . . . . . . . . . . . . . . . . . . . . . . . . . . . . . . . . . . . . . . . . . . . . . . . . . . . . . . . . . . . . "
   ]
  },
  {
   "cell_type": "markdown",
   "id": "a172ddb9-b650-4412-933d-36ef5f950759",
   "metadata": {},
   "source": [
    "**Merge tables**"
   ]
  },
  {
   "cell_type": "code",
   "execution_count": 26,
   "id": "7e314b21-baf1-4f59-afdb-6677e7aa3334",
   "metadata": {},
   "outputs": [],
   "source": [
    "df_lego_analysis = df_sales_sub.merge(df_cat_sub, left_on='set_number', right_on='set_num', how='inner')"
   ]
  },
  {
   "cell_type": "code",
   "execution_count": 27,
   "id": "082030f8-2bba-41f4-b8b2-d0fd38c13e56",
   "metadata": {},
   "outputs": [
    {
     "data": {
      "text/html": [
       "<div>\n",
       "<style scoped>\n",
       "    .dataframe tbody tr th:only-of-type {\n",
       "        vertical-align: middle;\n",
       "    }\n",
       "\n",
       "    .dataframe tbody tr th {\n",
       "        vertical-align: top;\n",
       "    }\n",
       "\n",
       "    .dataframe thead th {\n",
       "        text-align: right;\n",
       "    }\n",
       "</style>\n",
       "<table border=\"1\" class=\"dataframe\">\n",
       "  <thead>\n",
       "    <tr style=\"text-align: right;\">\n",
       "      <th></th>\n",
       "      <th>set_number</th>\n",
       "      <th>setID</th>\n",
       "      <th>name</th>\n",
       "      <th>year</th>\n",
       "      <th>theme</th>\n",
       "      <th>themeGroup</th>\n",
       "      <th>subtheme</th>\n",
       "      <th>category</th>\n",
       "      <th>pieces</th>\n",
       "      <th>minifigs</th>\n",
       "      <th>...</th>\n",
       "      <th>PL_retailPrice</th>\n",
       "      <th>status</th>\n",
       "      <th>year_time</th>\n",
       "      <th>year_period</th>\n",
       "      <th>set_num</th>\n",
       "      <th>theme_id</th>\n",
       "      <th>num_parts</th>\n",
       "      <th>num_colors</th>\n",
       "      <th>num_materials</th>\n",
       "      <th>sum_spares</th>\n",
       "    </tr>\n",
       "  </thead>\n",
       "  <tbody>\n",
       "    <tr>\n",
       "      <th>0</th>\n",
       "      <td>10312-1</td>\n",
       "      <td>34386</td>\n",
       "      <td>Jazz Club</td>\n",
       "      <td>2023</td>\n",
       "      <td>Icons</td>\n",
       "      <td>Model making</td>\n",
       "      <td>Modular Buildings Collection</td>\n",
       "      <td>Normal</td>\n",
       "      <td>2899.0</td>\n",
       "      <td>8.0</td>\n",
       "      <td>...</td>\n",
       "      <td>1099.99</td>\n",
       "      <td>Available now</td>\n",
       "      <td>2023-01-01</td>\n",
       "      <td>2023</td>\n",
       "      <td>10312-1</td>\n",
       "      <td>155.0</td>\n",
       "      <td>2900.0</td>\n",
       "      <td>40.0</td>\n",
       "      <td>1.0</td>\n",
       "      <td>745.0</td>\n",
       "    </tr>\n",
       "    <tr>\n",
       "      <th>1</th>\n",
       "      <td>71038-7</td>\n",
       "      <td>34527</td>\n",
       "      <td>Queen of Hearts</td>\n",
       "      <td>2023</td>\n",
       "      <td>Collectable Minifigures</td>\n",
       "      <td>Miscellaneous</td>\n",
       "      <td>Disney 100</td>\n",
       "      <td>Normal</td>\n",
       "      <td>8.0</td>\n",
       "      <td>1.0</td>\n",
       "      <td>...</td>\n",
       "      <td>17.99</td>\n",
       "      <td>Available now</td>\n",
       "      <td>2023-01-01</td>\n",
       "      <td>2023</td>\n",
       "      <td>71038-7</td>\n",
       "      <td>745.0</td>\n",
       "      <td>8.0</td>\n",
       "      <td>3.0</td>\n",
       "      <td>1.0</td>\n",
       "      <td>5.0</td>\n",
       "    </tr>\n",
       "    <tr>\n",
       "      <th>2</th>\n",
       "      <td>71038-8</td>\n",
       "      <td>34528</td>\n",
       "      <td>Aurora</td>\n",
       "      <td>2023</td>\n",
       "      <td>Collectable Minifigures</td>\n",
       "      <td>Miscellaneous</td>\n",
       "      <td>Disney 100</td>\n",
       "      <td>Normal</td>\n",
       "      <td>7.0</td>\n",
       "      <td>1.0</td>\n",
       "      <td>...</td>\n",
       "      <td>17.99</td>\n",
       "      <td>Temporarily out of stock</td>\n",
       "      <td>2023-01-01</td>\n",
       "      <td>2023</td>\n",
       "      <td>71038-8</td>\n",
       "      <td>745.0</td>\n",
       "      <td>7.0</td>\n",
       "      <td>3.0</td>\n",
       "      <td>1.0</td>\n",
       "      <td>3.0</td>\n",
       "    </tr>\n",
       "    <tr>\n",
       "      <th>3</th>\n",
       "      <td>71038-0</td>\n",
       "      <td>34520</td>\n",
       "      <td>LEGO Minifigures - Disney 100 Series {Random bag}</td>\n",
       "      <td>2023</td>\n",
       "      <td>Collectable Minifigures</td>\n",
       "      <td>Miscellaneous</td>\n",
       "      <td>Disney 100</td>\n",
       "      <td>Random</td>\n",
       "      <td>NaN</td>\n",
       "      <td>NaN</td>\n",
       "      <td>...</td>\n",
       "      <td>17.99</td>\n",
       "      <td>Coming Soon</td>\n",
       "      <td>2023-01-01</td>\n",
       "      <td>2023</td>\n",
       "      <td>71038-0</td>\n",
       "      <td>NaN</td>\n",
       "      <td>NaN</td>\n",
       "      <td>NaN</td>\n",
       "      <td>NaN</td>\n",
       "      <td>NaN</td>\n",
       "    </tr>\n",
       "    <tr>\n",
       "      <th>4</th>\n",
       "      <td>71038-1</td>\n",
       "      <td>34521</td>\n",
       "      <td>Oswald the Lucky Rabbit</td>\n",
       "      <td>2023</td>\n",
       "      <td>Collectable Minifigures</td>\n",
       "      <td>Miscellaneous</td>\n",
       "      <td>Disney 100</td>\n",
       "      <td>Normal</td>\n",
       "      <td>5.0</td>\n",
       "      <td>1.0</td>\n",
       "      <td>...</td>\n",
       "      <td>17.99</td>\n",
       "      <td>Coming Soon</td>\n",
       "      <td>2023-01-01</td>\n",
       "      <td>2023</td>\n",
       "      <td>71038-1</td>\n",
       "      <td>745.0</td>\n",
       "      <td>5.0</td>\n",
       "      <td>1.0</td>\n",
       "      <td>1.0</td>\n",
       "      <td>2.0</td>\n",
       "    </tr>\n",
       "  </tbody>\n",
       "</table>\n",
       "<p>5 rows × 32 columns</p>\n",
       "</div>"
      ],
      "text/plain": [
       "  set_number  setID                                               name  year  \\\n",
       "0    10312-1  34386                                          Jazz Club  2023   \n",
       "1    71038-7  34527                                    Queen of Hearts  2023   \n",
       "2    71038-8  34528                                             Aurora  2023   \n",
       "3    71038-0  34520  LEGO Minifigures - Disney 100 Series {Random bag}  2023   \n",
       "4    71038-1  34521                            Oswald the Lucky Rabbit  2023   \n",
       "\n",
       "                     theme     themeGroup                      subtheme  \\\n",
       "0                    Icons   Model making  Modular Buildings Collection   \n",
       "1  Collectable Minifigures  Miscellaneous                    Disney 100   \n",
       "2  Collectable Minifigures  Miscellaneous                    Disney 100   \n",
       "3  Collectable Minifigures  Miscellaneous                    Disney 100   \n",
       "4  Collectable Minifigures  Miscellaneous                    Disney 100   \n",
       "\n",
       "  category  pieces  minifigs  ...  PL_retailPrice                    status  \\\n",
       "0   Normal  2899.0       8.0  ...         1099.99             Available now   \n",
       "1   Normal     8.0       1.0  ...           17.99             Available now   \n",
       "2   Normal     7.0       1.0  ...           17.99  Temporarily out of stock   \n",
       "3   Random     NaN       NaN  ...           17.99               Coming Soon   \n",
       "4   Normal     5.0       1.0  ...           17.99               Coming Soon   \n",
       "\n",
       "    year_time  year_period  set_num theme_id  num_parts  num_colors  \\\n",
       "0  2023-01-01         2023  10312-1    155.0     2900.0        40.0   \n",
       "1  2023-01-01         2023  71038-7    745.0        8.0         3.0   \n",
       "2  2023-01-01         2023  71038-8    745.0        7.0         3.0   \n",
       "3  2023-01-01         2023  71038-0      NaN        NaN         NaN   \n",
       "4  2023-01-01         2023  71038-1    745.0        5.0         1.0   \n",
       "\n",
       "   num_materials  sum_spares  \n",
       "0            1.0       745.0  \n",
       "1            1.0         5.0  \n",
       "2            1.0         3.0  \n",
       "3            NaN         NaN  \n",
       "4            1.0         2.0  \n",
       "\n",
       "[5 rows x 32 columns]"
      ]
     },
     "execution_count": 27,
     "metadata": {},
     "output_type": "execute_result"
    }
   ],
   "source": [
    "df_lego_analysis.head()"
   ]
  },
  {
   "cell_type": "code",
   "execution_count": 28,
   "id": "8cd86faf-e23a-4cfa-b2e7-8e334a47da62",
   "metadata": {},
   "outputs": [
    {
     "data": {
      "text/plain": [
       "0"
      ]
     },
     "execution_count": 28,
     "metadata": {},
     "output_type": "execute_result"
    }
   ],
   "source": [
    "#count number of rows from df_sales_sub that were not complemented by df_cat_dub\n",
    "non_matching_rows = df_lego_analysis[df_lego_analysis['set_num'].isna()]\n",
    "non_matching_rows.shape[0]"
   ]
  },
  {
   "cell_type": "code",
   "execution_count": 29,
   "id": "6aea84d7-6967-41e2-8748-80f461d21563",
   "metadata": {},
   "outputs": [
    {
     "data": {
      "text/plain": [
       "(8366, 32)"
      ]
     },
     "execution_count": 29,
     "metadata": {},
     "output_type": "execute_result"
    }
   ],
   "source": [
    "# check shape after merge\n",
    "df_lego_analysis.shape"
   ]
  },
  {
   "cell_type": "code",
   "execution_count": 30,
   "id": "82445e73-bd2f-4984-9219-d693a81cb06e",
   "metadata": {},
   "outputs": [
    {
     "data": {
      "text/plain": [
       "551"
      ]
     },
     "execution_count": 30,
     "metadata": {},
     "output_type": "execute_result"
    }
   ],
   "source": [
    "# check for duplicates\n",
    "df_lego_analysis.duplicated().sum()"
   ]
  },
  {
   "cell_type": "code",
   "execution_count": 31,
   "id": "f70f09fd-4ebb-45f9-8b86-fc4a50cfe99d",
   "metadata": {},
   "outputs": [],
   "source": [
    "# drop duplicates\n",
    "df_lego_analysis = df_lego_analysis.drop_duplicates()"
   ]
  },
  {
   "cell_type": "code",
   "execution_count": 32,
   "id": "0f32b471-2294-4cea-9d69-90a69ef6c5c9",
   "metadata": {},
   "outputs": [
    {
     "data": {
      "text/plain": [
       "(7815, 32)"
      ]
     },
     "execution_count": 32,
     "metadata": {},
     "output_type": "execute_result"
    }
   ],
   "source": [
    "# confirm dropped duplicates\n",
    "df_lego_analysis.shape"
   ]
  },
  {
   "cell_type": "code",
   "execution_count": 33,
   "id": "e8b1e2af-8375-48b8-8edf-9887fee92b4e",
   "metadata": {},
   "outputs": [
    {
     "data": {
      "text/plain": [
       "set_number              0\n",
       "setID                   0\n",
       "name                    0\n",
       "year                    0\n",
       "theme                   0\n",
       "themeGroup             15\n",
       "subtheme              879\n",
       "category                0\n",
       "pieces                122\n",
       "minifigs             2334\n",
       "ownedBy                 8\n",
       "wantedBy                0\n",
       "rating                  0\n",
       "reviewCount             0\n",
       "packagingType           0\n",
       "availability            0\n",
       "instructionsCount       0\n",
       "minAge               2190\n",
       "US_retailPrice       2790\n",
       "UK_retailPrice       2732\n",
       "CA_retailPrice       3225\n",
       "DE_retailPrice       4331\n",
       "PL_retailPrice        714\n",
       "status                  0\n",
       "year_time               0\n",
       "year_period             0\n",
       "set_num                 0\n",
       "theme_id              212\n",
       "num_parts             212\n",
       "num_colors            167\n",
       "num_materials         167\n",
       "sum_spares            167\n",
       "dtype: int64"
      ]
     },
     "execution_count": 33,
     "metadata": {},
     "output_type": "execute_result"
    }
   ],
   "source": [
    "# check missing values\n",
    "df_lego_analysis.isnull().sum()"
   ]
  },
  {
   "cell_type": "markdown",
   "id": "1094ec2a-277e-42ee-abdc-1a84545b8502",
   "metadata": {},
   "source": [
    " . . . . . . . . . . . . . . . . . . . . . . . . . . . . . . . . . . . . . . . . . . . . . . . . . . . . . . . . . . . . . . . . . . . . . . . . . . . . . . . . . . . . . . . . . . . . . . . . . . . . . . . . . . . . . . . . . . . . . . . . . . . . . . . . . . . . . . . . . . . . "
   ]
  },
  {
   "cell_type": "markdown",
   "id": "f94bed1c-0b7b-4431-9e5f-ad19f1f232c5",
   "metadata": {},
   "source": [
    "**IMPUTE MISSING MINIFIGS FROM LEGO CATALOG IN LEGO SALES**"
   ]
  },
  {
   "cell_type": "markdown",
   "id": "50b03df7-51be-4401-8edb-c4f1def55c18",
   "metadata": {},
   "source": [
    "**Prepare minifig table from LEGO catalog**"
   ]
  },
  {
   "cell_type": "code",
   "execution_count": 37,
   "id": "a0661356-75b9-4154-ab3b-40f109975652",
   "metadata": {},
   "outputs": [],
   "source": [
    "# import data set LEGO catalog\n",
    "df_inv = pd.read_csv(os.path.join(path, '2 Data', 'Original data', 'inventories.csv'))\n",
    "df_inv_mf = pd.read_csv(os.path.join(path, '2 Data', 'Original data', 'inventory_minifigs.csv'))\n",
    "df_mf = pd.read_csv(os.path.join(path, '2 Data', 'Original data', 'minifigs.csv'))"
   ]
  },
  {
   "cell_type": "code",
   "execution_count": 38,
   "id": "fc63610c-76c2-4ba3-9bc2-f3a5377be65a",
   "metadata": {},
   "outputs": [
    {
     "data": {
      "text/plain": [
       "Index(['id', 'version', 'set_num'], dtype='object')"
      ]
     },
     "execution_count": 38,
     "metadata": {},
     "output_type": "execute_result"
    }
   ],
   "source": [
    "# check columns\n",
    "df_inv.columns"
   ]
  },
  {
   "cell_type": "code",
   "execution_count": 39,
   "id": "ae51bf52-6855-4270-85b3-d849bce4e7e8",
   "metadata": {},
   "outputs": [],
   "source": [
    "# remove column version from df\n",
    "df_inv.drop(columns='version', inplace=True)"
   ]
  },
  {
   "cell_type": "code",
   "execution_count": 40,
   "id": "848ca4aa-de1c-41a3-9dcd-8544908f5a0c",
   "metadata": {},
   "outputs": [
    {
     "data": {
      "text/plain": [
       "Index(['inventory_id', 'fig_num', 'quantity'], dtype='object')"
      ]
     },
     "execution_count": 40,
     "metadata": {},
     "output_type": "execute_result"
    }
   ],
   "source": [
    "# check columns\n",
    "df_inv_mf.columns"
   ]
  },
  {
   "cell_type": "code",
   "execution_count": 41,
   "id": "92b60d2e-38b2-459a-af5a-8d60daeff521",
   "metadata": {},
   "outputs": [
    {
     "data": {
      "text/plain": [
       "Index(['fig_num', 'name', 'num_parts', 'img_url'], dtype='object')"
      ]
     },
     "execution_count": 41,
     "metadata": {},
     "output_type": "execute_result"
    }
   ],
   "source": [
    "# check columns\n",
    "df_mf.columns"
   ]
  },
  {
   "cell_type": "code",
   "execution_count": 42,
   "id": "e0eb6989-9efd-4c09-9c96-917fd08ab338",
   "metadata": {},
   "outputs": [],
   "source": [
    "# remove columns from df\n",
    "df_mf.drop(columns=['name', 'num_parts', 'img_url'], inplace=True)"
   ]
  },
  {
   "cell_type": "code",
   "execution_count": 43,
   "id": "046704c9-b8df-48ff-9fb5-e7dc1d7ce0ef",
   "metadata": {},
   "outputs": [
    {
     "data": {
      "text/plain": [
       "id          int64\n",
       "set_num    object\n",
       "dtype: object"
      ]
     },
     "execution_count": 43,
     "metadata": {},
     "output_type": "execute_result"
    }
   ],
   "source": [
    "# check data types\n",
    "df_inv.dtypes"
   ]
  },
  {
   "cell_type": "code",
   "execution_count": 44,
   "id": "8d0ad4e3-7326-44f7-a166-a369287de398",
   "metadata": {},
   "outputs": [
    {
     "data": {
      "text/plain": [
       "inventory_id     int64\n",
       "fig_num         object\n",
       "quantity         int64\n",
       "dtype: object"
      ]
     },
     "execution_count": 44,
     "metadata": {},
     "output_type": "execute_result"
    }
   ],
   "source": [
    "df_inv_mf.dtypes"
   ]
  },
  {
   "cell_type": "code",
   "execution_count": 45,
   "id": "d0690df7-d79f-4812-80b0-71548d6fcd78",
   "metadata": {},
   "outputs": [
    {
     "data": {
      "text/plain": [
       "fig_num    object\n",
       "dtype: object"
      ]
     },
     "execution_count": 45,
     "metadata": {},
     "output_type": "execute_result"
    }
   ],
   "source": [
    "df_mf.dtypes"
   ]
  },
  {
   "cell_type": "code",
   "execution_count": 46,
   "id": "803e4721-53a2-45d8-9968-1a102a9528b5",
   "metadata": {},
   "outputs": [],
   "source": [
    "# merge tables, inv is base, inv_mf complements\n",
    "df_mfs = df_inv.merge(df_inv_mf, left_on='id', right_on='inventory_id', how='inner')"
   ]
  },
  {
   "cell_type": "code",
   "execution_count": 47,
   "id": "3cc6b5b1-4278-4588-96b5-92e6762f97fc",
   "metadata": {},
   "outputs": [
    {
     "data": {
      "text/plain": [
       "Index(['id', 'set_num', 'inventory_id', 'fig_num', 'quantity'], dtype='object')"
      ]
     },
     "execution_count": 47,
     "metadata": {},
     "output_type": "execute_result"
    }
   ],
   "source": [
    "# confirm merge\n",
    "df_mfs.columns"
   ]
  },
  {
   "cell_type": "code",
   "execution_count": 48,
   "id": "ee040000-c102-4398-8a2c-f2de67033ae1",
   "metadata": {},
   "outputs": [],
   "source": [
    "# complement minifigs table\n",
    "df_mfs = df_mfs.merge(df_mf, on='fig_num', how='left')"
   ]
  },
  {
   "cell_type": "code",
   "execution_count": 49,
   "id": "9721c52d-a3cc-4fc5-b4c9-5a1c35f043ff",
   "metadata": {},
   "outputs": [
    {
     "data": {
      "text/html": [
       "<div>\n",
       "<style scoped>\n",
       "    .dataframe tbody tr th:only-of-type {\n",
       "        vertical-align: middle;\n",
       "    }\n",
       "\n",
       "    .dataframe tbody tr th {\n",
       "        vertical-align: top;\n",
       "    }\n",
       "\n",
       "    .dataframe thead th {\n",
       "        text-align: right;\n",
       "    }\n",
       "</style>\n",
       "<table border=\"1\" class=\"dataframe\">\n",
       "  <thead>\n",
       "    <tr style=\"text-align: right;\">\n",
       "      <th></th>\n",
       "      <th>id</th>\n",
       "      <th>set_num</th>\n",
       "      <th>inventory_id</th>\n",
       "      <th>fig_num</th>\n",
       "      <th>quantity</th>\n",
       "    </tr>\n",
       "  </thead>\n",
       "  <tbody>\n",
       "    <tr>\n",
       "      <th>0</th>\n",
       "      <td>3</td>\n",
       "      <td>3931-1</td>\n",
       "      <td>3</td>\n",
       "      <td>fig-001549</td>\n",
       "      <td>1</td>\n",
       "    </tr>\n",
       "    <tr>\n",
       "      <th>1</th>\n",
       "      <td>4</td>\n",
       "      <td>6942-1</td>\n",
       "      <td>4</td>\n",
       "      <td>fig-000764</td>\n",
       "      <td>1</td>\n",
       "    </tr>\n",
       "    <tr>\n",
       "      <th>2</th>\n",
       "      <td>19</td>\n",
       "      <td>4444-1</td>\n",
       "      <td>19</td>\n",
       "      <td>fig-000555</td>\n",
       "      <td>1</td>\n",
       "    </tr>\n",
       "    <tr>\n",
       "      <th>3</th>\n",
       "      <td>25</td>\n",
       "      <td>71012-11</td>\n",
       "      <td>25</td>\n",
       "      <td>fig-000574</td>\n",
       "      <td>1</td>\n",
       "    </tr>\n",
       "    <tr>\n",
       "      <th>4</th>\n",
       "      <td>26</td>\n",
       "      <td>6435-1</td>\n",
       "      <td>26</td>\n",
       "      <td>fig-000842</td>\n",
       "      <td>1</td>\n",
       "    </tr>\n",
       "  </tbody>\n",
       "</table>\n",
       "</div>"
      ],
      "text/plain": [
       "   id   set_num  inventory_id     fig_num  quantity\n",
       "0   3    3931-1             3  fig-001549         1\n",
       "1   4    6942-1             4  fig-000764         1\n",
       "2  19    4444-1            19  fig-000555         1\n",
       "3  25  71012-11            25  fig-000574         1\n",
       "4  26    6435-1            26  fig-000842         1"
      ]
     },
     "execution_count": 49,
     "metadata": {},
     "output_type": "execute_result"
    }
   ],
   "source": [
    "# confirm merg\n",
    "df_mfs.head()"
   ]
  },
  {
   "cell_type": "code",
   "execution_count": 50,
   "id": "e0d1a68c-58a8-447b-a597-c417b9e5b227",
   "metadata": {},
   "outputs": [],
   "source": [
    "# remove columns from df\n",
    "df_mfs.drop(columns=['id', 'inventory_id'], inplace=True)"
   ]
  },
  {
   "cell_type": "code",
   "execution_count": 51,
   "id": "a9aec789-f091-4dfd-abe8-8fb45c9366c7",
   "metadata": {},
   "outputs": [
    {
     "data": {
      "text/plain": [
       "(22478, 3)"
      ]
     },
     "execution_count": 51,
     "metadata": {},
     "output_type": "execute_result"
    }
   ],
   "source": [
    "# check merged df\n",
    "df_mfs.shape"
   ]
  },
  {
   "cell_type": "code",
   "execution_count": 52,
   "id": "37540f5a-ea43-4a9e-a66a-010210c1e172",
   "metadata": {},
   "outputs": [
    {
     "data": {
      "text/html": [
       "<div>\n",
       "<style scoped>\n",
       "    .dataframe tbody tr th:only-of-type {\n",
       "        vertical-align: middle;\n",
       "    }\n",
       "\n",
       "    .dataframe tbody tr th {\n",
       "        vertical-align: top;\n",
       "    }\n",
       "\n",
       "    .dataframe thead th {\n",
       "        text-align: right;\n",
       "    }\n",
       "</style>\n",
       "<table border=\"1\" class=\"dataframe\">\n",
       "  <thead>\n",
       "    <tr style=\"text-align: right;\">\n",
       "      <th></th>\n",
       "      <th>set_num</th>\n",
       "      <th>fig_num</th>\n",
       "      <th>quantity</th>\n",
       "    </tr>\n",
       "  </thead>\n",
       "  <tbody>\n",
       "    <tr>\n",
       "      <th>0</th>\n",
       "      <td>3931-1</td>\n",
       "      <td>fig-001549</td>\n",
       "      <td>1</td>\n",
       "    </tr>\n",
       "    <tr>\n",
       "      <th>1</th>\n",
       "      <td>6942-1</td>\n",
       "      <td>fig-000764</td>\n",
       "      <td>1</td>\n",
       "    </tr>\n",
       "    <tr>\n",
       "      <th>2</th>\n",
       "      <td>4444-1</td>\n",
       "      <td>fig-000555</td>\n",
       "      <td>1</td>\n",
       "    </tr>\n",
       "    <tr>\n",
       "      <th>3</th>\n",
       "      <td>71012-11</td>\n",
       "      <td>fig-000574</td>\n",
       "      <td>1</td>\n",
       "    </tr>\n",
       "    <tr>\n",
       "      <th>4</th>\n",
       "      <td>6435-1</td>\n",
       "      <td>fig-000842</td>\n",
       "      <td>1</td>\n",
       "    </tr>\n",
       "  </tbody>\n",
       "</table>\n",
       "</div>"
      ],
      "text/plain": [
       "    set_num     fig_num  quantity\n",
       "0    3931-1  fig-001549         1\n",
       "1    6942-1  fig-000764         1\n",
       "2    4444-1  fig-000555         1\n",
       "3  71012-11  fig-000574         1\n",
       "4    6435-1  fig-000842         1"
      ]
     },
     "execution_count": 52,
     "metadata": {},
     "output_type": "execute_result"
    }
   ],
   "source": [
    "df_mfs.head()"
   ]
  },
  {
   "cell_type": "code",
   "execution_count": 53,
   "id": "1d17b72e-284a-475d-8d6a-8b58087971cf",
   "metadata": {},
   "outputs": [
    {
     "data": {
      "text/html": [
       "<div>\n",
       "<style scoped>\n",
       "    .dataframe tbody tr th:only-of-type {\n",
       "        vertical-align: middle;\n",
       "    }\n",
       "\n",
       "    .dataframe tbody tr th {\n",
       "        vertical-align: top;\n",
       "    }\n",
       "\n",
       "    .dataframe thead th {\n",
       "        text-align: right;\n",
       "    }\n",
       "</style>\n",
       "<table border=\"1\" class=\"dataframe\">\n",
       "  <thead>\n",
       "    <tr style=\"text-align: right;\">\n",
       "      <th></th>\n",
       "      <th>set_num</th>\n",
       "      <th>fig_num</th>\n",
       "      <th>quantity</th>\n",
       "    </tr>\n",
       "  </thead>\n",
       "  <tbody>\n",
       "    <tr>\n",
       "      <th>5247</th>\n",
       "      <td>2000409-1</td>\n",
       "      <td>fig-001087</td>\n",
       "      <td>100</td>\n",
       "    </tr>\n",
       "    <tr>\n",
       "      <th>187</th>\n",
       "      <td>7662-1</td>\n",
       "      <td>fig-002330</td>\n",
       "      <td>16</td>\n",
       "    </tr>\n",
       "    <tr>\n",
       "      <th>5785</th>\n",
       "      <td>75086-1</td>\n",
       "      <td>fig-002330</td>\n",
       "      <td>12</td>\n",
       "    </tr>\n",
       "    <tr>\n",
       "      <th>8998</th>\n",
       "      <td>970661-1</td>\n",
       "      <td>fig-002229</td>\n",
       "      <td>10</td>\n",
       "    </tr>\n",
       "    <tr>\n",
       "      <th>13001</th>\n",
       "      <td>852998-1</td>\n",
       "      <td>fig-001814</td>\n",
       "      <td>10</td>\n",
       "    </tr>\n",
       "    <tr>\n",
       "      <th>...</th>\n",
       "      <td>...</td>\n",
       "      <td>...</td>\n",
       "      <td>...</td>\n",
       "    </tr>\n",
       "    <tr>\n",
       "      <th>7711</th>\n",
       "      <td>363-1</td>\n",
       "      <td>fig-004966</td>\n",
       "      <td>1</td>\n",
       "    </tr>\n",
       "    <tr>\n",
       "      <th>7709</th>\n",
       "      <td>70404-1</td>\n",
       "      <td>fig-010112</td>\n",
       "      <td>1</td>\n",
       "    </tr>\n",
       "    <tr>\n",
       "      <th>7708</th>\n",
       "      <td>70404-1</td>\n",
       "      <td>fig-010111</td>\n",
       "      <td>1</td>\n",
       "    </tr>\n",
       "    <tr>\n",
       "      <th>7707</th>\n",
       "      <td>70404-1</td>\n",
       "      <td>fig-010110</td>\n",
       "      <td>1</td>\n",
       "    </tr>\n",
       "    <tr>\n",
       "      <th>22477</th>\n",
       "      <td>5836281087-1</td>\n",
       "      <td>fig-010654</td>\n",
       "      <td>1</td>\n",
       "    </tr>\n",
       "  </tbody>\n",
       "</table>\n",
       "<p>22478 rows × 3 columns</p>\n",
       "</div>"
      ],
      "text/plain": [
       "            set_num     fig_num  quantity\n",
       "5247      2000409-1  fig-001087       100\n",
       "187          7662-1  fig-002330        16\n",
       "5785        75086-1  fig-002330        12\n",
       "8998       970661-1  fig-002229        10\n",
       "13001      852998-1  fig-001814        10\n",
       "...             ...         ...       ...\n",
       "7711          363-1  fig-004966         1\n",
       "7709        70404-1  fig-010112         1\n",
       "7708        70404-1  fig-010111         1\n",
       "7707        70404-1  fig-010110         1\n",
       "22477  5836281087-1  fig-010654         1\n",
       "\n",
       "[22478 rows x 3 columns]"
      ]
     },
     "execution_count": 53,
     "metadata": {},
     "output_type": "execute_result"
    }
   ],
   "source": [
    "# check quanity range\n",
    "df_mfs.sort_values(by='quantity', ascending=False)"
   ]
  },
  {
   "cell_type": "code",
   "execution_count": 54,
   "id": "b0ebd4ea-009a-4559-a72d-38ed48b5e793",
   "metadata": {},
   "outputs": [],
   "source": [
    "pd.reset_option('display.max_rows')"
   ]
  },
  {
   "cell_type": "code",
   "execution_count": 55,
   "id": "87e228da-0b3c-4242-b46d-c5f0590272d3",
   "metadata": {},
   "outputs": [
    {
     "data": {
      "text/html": [
       "<div>\n",
       "<style scoped>\n",
       "    .dataframe tbody tr th:only-of-type {\n",
       "        vertical-align: middle;\n",
       "    }\n",
       "\n",
       "    .dataframe tbody tr th {\n",
       "        vertical-align: top;\n",
       "    }\n",
       "\n",
       "    .dataframe thead th {\n",
       "        text-align: right;\n",
       "    }\n",
       "</style>\n",
       "<table border=\"1\" class=\"dataframe\">\n",
       "  <thead>\n",
       "    <tr style=\"text-align: right;\">\n",
       "      <th></th>\n",
       "      <th>set_num</th>\n",
       "      <th>quantity</th>\n",
       "    </tr>\n",
       "  </thead>\n",
       "  <tbody>\n",
       "    <tr>\n",
       "      <th>0</th>\n",
       "      <td>0003977811-1</td>\n",
       "      <td>1</td>\n",
       "    </tr>\n",
       "    <tr>\n",
       "      <th>1</th>\n",
       "      <td>0011-2</td>\n",
       "      <td>3</td>\n",
       "    </tr>\n",
       "    <tr>\n",
       "      <th>2</th>\n",
       "      <td>0012-1</td>\n",
       "      <td>2</td>\n",
       "    </tr>\n",
       "    <tr>\n",
       "      <th>3</th>\n",
       "      <td>0013-1</td>\n",
       "      <td>2</td>\n",
       "    </tr>\n",
       "    <tr>\n",
       "      <th>4</th>\n",
       "      <td>0014-1</td>\n",
       "      <td>4</td>\n",
       "    </tr>\n",
       "    <tr>\n",
       "      <th>...</th>\n",
       "      <td>...</td>\n",
       "      <td>...</td>\n",
       "    </tr>\n",
       "    <tr>\n",
       "      <th>8288</th>\n",
       "      <td>WILLIAM-1</td>\n",
       "      <td>1</td>\n",
       "    </tr>\n",
       "    <tr>\n",
       "      <th>8289</th>\n",
       "      <td>WLB6701-1</td>\n",
       "      <td>1</td>\n",
       "    </tr>\n",
       "    <tr>\n",
       "      <th>8290</th>\n",
       "      <td>YODACHRON-1</td>\n",
       "      <td>3</td>\n",
       "    </tr>\n",
       "    <tr>\n",
       "      <th>8291</th>\n",
       "      <td>sw117promo-1</td>\n",
       "      <td>1</td>\n",
       "    </tr>\n",
       "    <tr>\n",
       "      <th>8292</th>\n",
       "      <td>tf05-1</td>\n",
       "      <td>3</td>\n",
       "    </tr>\n",
       "  </tbody>\n",
       "</table>\n",
       "<p>8293 rows × 2 columns</p>\n",
       "</div>"
      ],
      "text/plain": [
       "           set_num  quantity\n",
       "0     0003977811-1         1\n",
       "1           0011-2         3\n",
       "2           0012-1         2\n",
       "3           0013-1         2\n",
       "4           0014-1         4\n",
       "...            ...       ...\n",
       "8288     WILLIAM-1         1\n",
       "8289     WLB6701-1         1\n",
       "8290   YODACHRON-1         3\n",
       "8291  sw117promo-1         1\n",
       "8292        tf05-1         3\n",
       "\n",
       "[8293 rows x 2 columns]"
      ]
     },
     "execution_count": 55,
     "metadata": {},
     "output_type": "execute_result"
    }
   ],
   "source": [
    "# redefine df with sum minifigs by set_num\n",
    "df_mfs = df_mfs.groupby('set_num')['quantity'].sum().reset_index()\n",
    "df_mfs"
   ]
  },
  {
   "cell_type": "markdown",
   "id": "de478566-22d3-43ca-85e9-a64966ac4f67",
   "metadata": {},
   "source": [
    " . . . . . . . . . . . . . . . . . . . . . . . . . . . . . . . . . . . . . . . . . . . . . . . . . . . . . . . . . . . . . . . . . . . . . . . . . . . . . . . . . . . . . . . . . . . . . . . . . . . . . . . . . . . . . . . . . . . . . . . . . . . . . . . . . . . . . . . . . . . . "
   ]
  },
  {
   "cell_type": "markdown",
   "id": "5579624c-db40-4ef6-a45e-4bcde9193fe5",
   "metadata": {},
   "source": [
    "**Prepare main df to impute missing minifigs**"
   ]
  },
  {
   "cell_type": "code",
   "execution_count": 58,
   "id": "a434d439-66a1-40ef-9727-7956ab084688",
   "metadata": {},
   "outputs": [
    {
     "data": {
      "text/html": [
       "<div>\n",
       "<style scoped>\n",
       "    .dataframe tbody tr th:only-of-type {\n",
       "        vertical-align: middle;\n",
       "    }\n",
       "\n",
       "    .dataframe tbody tr th {\n",
       "        vertical-align: top;\n",
       "    }\n",
       "\n",
       "    .dataframe thead th {\n",
       "        text-align: right;\n",
       "    }\n",
       "</style>\n",
       "<table border=\"1\" class=\"dataframe\">\n",
       "  <thead>\n",
       "    <tr style=\"text-align: right;\">\n",
       "      <th></th>\n",
       "      <th>set_number</th>\n",
       "      <th>setID</th>\n",
       "      <th>name</th>\n",
       "      <th>year</th>\n",
       "      <th>theme</th>\n",
       "      <th>themeGroup</th>\n",
       "      <th>subtheme</th>\n",
       "      <th>category</th>\n",
       "      <th>pieces</th>\n",
       "      <th>minifigs</th>\n",
       "      <th>...</th>\n",
       "      <th>PL_retailPrice</th>\n",
       "      <th>status</th>\n",
       "      <th>year_time</th>\n",
       "      <th>year_period</th>\n",
       "      <th>set_num</th>\n",
       "      <th>theme_id</th>\n",
       "      <th>num_parts</th>\n",
       "      <th>num_colors</th>\n",
       "      <th>num_materials</th>\n",
       "      <th>sum_spares</th>\n",
       "    </tr>\n",
       "  </thead>\n",
       "  <tbody>\n",
       "    <tr>\n",
       "      <th>3</th>\n",
       "      <td>71038-0</td>\n",
       "      <td>34520</td>\n",
       "      <td>LEGO Minifigures - Disney 100 Series {Random bag}</td>\n",
       "      <td>2023</td>\n",
       "      <td>Collectable Minifigures</td>\n",
       "      <td>Miscellaneous</td>\n",
       "      <td>Disney 100</td>\n",
       "      <td>Random</td>\n",
       "      <td>NaN</td>\n",
       "      <td>NaN</td>\n",
       "      <td>...</td>\n",
       "      <td>17.99</td>\n",
       "      <td>Coming Soon</td>\n",
       "      <td>2023-01-01</td>\n",
       "      <td>2023</td>\n",
       "      <td>71038-0</td>\n",
       "      <td>NaN</td>\n",
       "      <td>NaN</td>\n",
       "      <td>NaN</td>\n",
       "      <td>NaN</td>\n",
       "      <td>NaN</td>\n",
       "    </tr>\n",
       "    <tr>\n",
       "      <th>21</th>\n",
       "      <td>10314-1</td>\n",
       "      <td>34445</td>\n",
       "      <td>Dried Flower Centrepiece</td>\n",
       "      <td>2023</td>\n",
       "      <td>Icons</td>\n",
       "      <td>Model making</td>\n",
       "      <td>Botanical Collection</td>\n",
       "      <td>Normal</td>\n",
       "      <td>812.0</td>\n",
       "      <td>NaN</td>\n",
       "      <td>...</td>\n",
       "      <td>249.99</td>\n",
       "      <td>Available now</td>\n",
       "      <td>2023-01-01</td>\n",
       "      <td>2023</td>\n",
       "      <td>10314-1</td>\n",
       "      <td>721.0</td>\n",
       "      <td>812.0</td>\n",
       "      <td>18.0</td>\n",
       "      <td>1.0</td>\n",
       "      <td>134.0</td>\n",
       "    </tr>\n",
       "    <tr>\n",
       "      <th>23</th>\n",
       "      <td>10317-1</td>\n",
       "      <td>39928</td>\n",
       "      <td>Land Rover Classic Defender 90</td>\n",
       "      <td>2023</td>\n",
       "      <td>Icons</td>\n",
       "      <td>Model making</td>\n",
       "      <td>Vehicles</td>\n",
       "      <td>Normal</td>\n",
       "      <td>2336.0</td>\n",
       "      <td>NaN</td>\n",
       "      <td>...</td>\n",
       "      <td>1149.99</td>\n",
       "      <td>Pre-Order</td>\n",
       "      <td>2023-01-01</td>\n",
       "      <td>2023</td>\n",
       "      <td>10317-1</td>\n",
       "      <td>721.0</td>\n",
       "      <td>2344.0</td>\n",
       "      <td>21.0</td>\n",
       "      <td>2.0</td>\n",
       "      <td>535.0</td>\n",
       "    </tr>\n",
       "    <tr>\n",
       "      <th>24</th>\n",
       "      <td>10323-1</td>\n",
       "      <td>47098</td>\n",
       "      <td>PAC-MAN Arcade</td>\n",
       "      <td>2023</td>\n",
       "      <td>Icons</td>\n",
       "      <td>Model making</td>\n",
       "      <td>Licensed</td>\n",
       "      <td>Normal</td>\n",
       "      <td>2651.0</td>\n",
       "      <td>NaN</td>\n",
       "      <td>...</td>\n",
       "      <td>1279.99</td>\n",
       "      <td>Lack of data</td>\n",
       "      <td>2023-01-01</td>\n",
       "      <td>2023</td>\n",
       "      <td>10323-1</td>\n",
       "      <td>721.0</td>\n",
       "      <td>2651.0</td>\n",
       "      <td>23.0</td>\n",
       "      <td>3.0</td>\n",
       "      <td>472.0</td>\n",
       "    </tr>\n",
       "    <tr>\n",
       "      <th>25</th>\n",
       "      <td>10785-1</td>\n",
       "      <td>45489</td>\n",
       "      <td>Bakey with Cakey Fun</td>\n",
       "      <td>2023</td>\n",
       "      <td>Gabby's Dollhouse</td>\n",
       "      <td>NaN</td>\n",
       "      <td>NaN</td>\n",
       "      <td>Normal</td>\n",
       "      <td>58.0</td>\n",
       "      <td>NaN</td>\n",
       "      <td>...</td>\n",
       "      <td>45.99</td>\n",
       "      <td>Available now</td>\n",
       "      <td>2023-01-01</td>\n",
       "      <td>2023</td>\n",
       "      <td>10785-1</td>\n",
       "      <td>748.0</td>\n",
       "      <td>58.0</td>\n",
       "      <td>16.0</td>\n",
       "      <td>1.0</td>\n",
       "      <td>46.0</td>\n",
       "    </tr>\n",
       "    <tr>\n",
       "      <th>...</th>\n",
       "      <td>...</td>\n",
       "      <td>...</td>\n",
       "      <td>...</td>\n",
       "      <td>...</td>\n",
       "      <td>...</td>\n",
       "      <td>...</td>\n",
       "      <td>...</td>\n",
       "      <td>...</td>\n",
       "      <td>...</td>\n",
       "      <td>...</td>\n",
       "      <td>...</td>\n",
       "      <td>...</td>\n",
       "      <td>...</td>\n",
       "      <td>...</td>\n",
       "      <td>...</td>\n",
       "      <td>...</td>\n",
       "      <td>...</td>\n",
       "      <td>...</td>\n",
       "      <td>...</td>\n",
       "      <td>...</td>\n",
       "      <td>...</td>\n",
       "    </tr>\n",
       "    <tr>\n",
       "      <th>8303</th>\n",
       "      <td>8035-1</td>\n",
       "      <td>4105</td>\n",
       "      <td>Universal Set</td>\n",
       "      <td>1986</td>\n",
       "      <td>Technic</td>\n",
       "      <td>Technical</td>\n",
       "      <td>Universal</td>\n",
       "      <td>Normal</td>\n",
       "      <td>174.0</td>\n",
       "      <td>NaN</td>\n",
       "      <td>...</td>\n",
       "      <td>NaN</td>\n",
       "      <td>Retired Product</td>\n",
       "      <td>1986-01-01</td>\n",
       "      <td>1986</td>\n",
       "      <td>8035-1</td>\n",
       "      <td>21.0</td>\n",
       "      <td>174.0</td>\n",
       "      <td>4.0</td>\n",
       "      <td>3.0</td>\n",
       "      <td>50.0</td>\n",
       "    </tr>\n",
       "    <tr>\n",
       "      <th>8305</th>\n",
       "      <td>1972-1</td>\n",
       "      <td>686</td>\n",
       "      <td>Go-Kart</td>\n",
       "      <td>1985</td>\n",
       "      <td>Technic</td>\n",
       "      <td>Technical</td>\n",
       "      <td>NaN</td>\n",
       "      <td>Normal</td>\n",
       "      <td>98.0</td>\n",
       "      <td>NaN</td>\n",
       "      <td>...</td>\n",
       "      <td>79.00</td>\n",
       "      <td>Retired Product</td>\n",
       "      <td>1985-01-01</td>\n",
       "      <td>1985</td>\n",
       "      <td>1972-1</td>\n",
       "      <td>1.0</td>\n",
       "      <td>98.0</td>\n",
       "      <td>4.0</td>\n",
       "      <td>2.0</td>\n",
       "      <td>35.0</td>\n",
       "    </tr>\n",
       "    <tr>\n",
       "      <th>8324</th>\n",
       "      <td>8851-1</td>\n",
       "      <td>4494</td>\n",
       "      <td>Excavator</td>\n",
       "      <td>1984</td>\n",
       "      <td>Technic</td>\n",
       "      <td>Technical</td>\n",
       "      <td>NaN</td>\n",
       "      <td>Normal</td>\n",
       "      <td>347.0</td>\n",
       "      <td>NaN</td>\n",
       "      <td>...</td>\n",
       "      <td>1999.00</td>\n",
       "      <td>Retired Product</td>\n",
       "      <td>1984-01-01</td>\n",
       "      <td>1984</td>\n",
       "      <td>8851-1</td>\n",
       "      <td>1.0</td>\n",
       "      <td>362.0</td>\n",
       "      <td>4.0</td>\n",
       "      <td>2.0</td>\n",
       "      <td>73.0</td>\n",
       "    </tr>\n",
       "    <tr>\n",
       "      <th>8333</th>\n",
       "      <td>8843-1</td>\n",
       "      <td>4485</td>\n",
       "      <td>Fork-Lift Truck</td>\n",
       "      <td>1984</td>\n",
       "      <td>Technic</td>\n",
       "      <td>Technical</td>\n",
       "      <td>NaN</td>\n",
       "      <td>Normal</td>\n",
       "      <td>269.0</td>\n",
       "      <td>NaN</td>\n",
       "      <td>...</td>\n",
       "      <td>1500.00</td>\n",
       "      <td>Retired Product</td>\n",
       "      <td>1984-01-01</td>\n",
       "      <td>1984</td>\n",
       "      <td>8843-1</td>\n",
       "      <td>1.0</td>\n",
       "      <td>275.0</td>\n",
       "      <td>4.0</td>\n",
       "      <td>2.0</td>\n",
       "      <td>85.0</td>\n",
       "    </tr>\n",
       "    <tr>\n",
       "      <th>8361</th>\n",
       "      <td>6305-1</td>\n",
       "      <td>3152</td>\n",
       "      <td>Trees and Flowers</td>\n",
       "      <td>1980</td>\n",
       "      <td>Town</td>\n",
       "      <td>Modern day</td>\n",
       "      <td>Accessories</td>\n",
       "      <td>Normal</td>\n",
       "      <td>12.0</td>\n",
       "      <td>NaN</td>\n",
       "      <td>...</td>\n",
       "      <td>12.99</td>\n",
       "      <td>Retired Product</td>\n",
       "      <td>1980-01-01</td>\n",
       "      <td>1980</td>\n",
       "      <td>6305-1</td>\n",
       "      <td>67.0</td>\n",
       "      <td>24.0</td>\n",
       "      <td>4.0</td>\n",
       "      <td>1.0</td>\n",
       "      <td>6.0</td>\n",
       "    </tr>\n",
       "  </tbody>\n",
       "</table>\n",
       "<p>2334 rows × 32 columns</p>\n",
       "</div>"
      ],
      "text/plain": [
       "     set_number  setID                                               name  \\\n",
       "3       71038-0  34520  LEGO Minifigures - Disney 100 Series {Random bag}   \n",
       "21      10314-1  34445                           Dried Flower Centrepiece   \n",
       "23      10317-1  39928                     Land Rover Classic Defender 90   \n",
       "24      10323-1  47098                                     PAC-MAN Arcade   \n",
       "25      10785-1  45489                               Bakey with Cakey Fun   \n",
       "...         ...    ...                                                ...   \n",
       "8303     8035-1   4105                                      Universal Set   \n",
       "8305     1972-1    686                                            Go-Kart   \n",
       "8324     8851-1   4494                                          Excavator   \n",
       "8333     8843-1   4485                                    Fork-Lift Truck   \n",
       "8361     6305-1   3152                                  Trees and Flowers   \n",
       "\n",
       "      year                    theme     themeGroup              subtheme  \\\n",
       "3     2023  Collectable Minifigures  Miscellaneous            Disney 100   \n",
       "21    2023                    Icons   Model making  Botanical Collection   \n",
       "23    2023                    Icons   Model making              Vehicles   \n",
       "24    2023                    Icons   Model making              Licensed   \n",
       "25    2023        Gabby's Dollhouse            NaN                   NaN   \n",
       "...    ...                      ...            ...                   ...   \n",
       "8303  1986                  Technic      Technical             Universal   \n",
       "8305  1985                  Technic      Technical                   NaN   \n",
       "8324  1984                  Technic      Technical                   NaN   \n",
       "8333  1984                  Technic      Technical                   NaN   \n",
       "8361  1980                     Town     Modern day           Accessories   \n",
       "\n",
       "     category  pieces  minifigs  ...  PL_retailPrice           status  \\\n",
       "3      Random     NaN       NaN  ...           17.99      Coming Soon   \n",
       "21     Normal   812.0       NaN  ...          249.99    Available now   \n",
       "23     Normal  2336.0       NaN  ...         1149.99        Pre-Order   \n",
       "24     Normal  2651.0       NaN  ...         1279.99     Lack of data   \n",
       "25     Normal    58.0       NaN  ...           45.99    Available now   \n",
       "...       ...     ...       ...  ...             ...              ...   \n",
       "8303   Normal   174.0       NaN  ...             NaN  Retired Product   \n",
       "8305   Normal    98.0       NaN  ...           79.00  Retired Product   \n",
       "8324   Normal   347.0       NaN  ...         1999.00  Retired Product   \n",
       "8333   Normal   269.0       NaN  ...         1500.00  Retired Product   \n",
       "8361   Normal    12.0       NaN  ...           12.99  Retired Product   \n",
       "\n",
       "       year_time  year_period  set_num theme_id  num_parts  num_colors  \\\n",
       "3     2023-01-01         2023  71038-0      NaN        NaN         NaN   \n",
       "21    2023-01-01         2023  10314-1    721.0      812.0        18.0   \n",
       "23    2023-01-01         2023  10317-1    721.0     2344.0        21.0   \n",
       "24    2023-01-01         2023  10323-1    721.0     2651.0        23.0   \n",
       "25    2023-01-01         2023  10785-1    748.0       58.0        16.0   \n",
       "...          ...          ...      ...      ...        ...         ...   \n",
       "8303  1986-01-01         1986   8035-1     21.0      174.0         4.0   \n",
       "8305  1985-01-01         1985   1972-1      1.0       98.0         4.0   \n",
       "8324  1984-01-01         1984   8851-1      1.0      362.0         4.0   \n",
       "8333  1984-01-01         1984   8843-1      1.0      275.0         4.0   \n",
       "8361  1980-01-01         1980   6305-1     67.0       24.0         4.0   \n",
       "\n",
       "      num_materials  sum_spares  \n",
       "3               NaN         NaN  \n",
       "21              1.0       134.0  \n",
       "23              2.0       535.0  \n",
       "24              3.0       472.0  \n",
       "25              1.0        46.0  \n",
       "...             ...         ...  \n",
       "8303            3.0        50.0  \n",
       "8305            2.0        35.0  \n",
       "8324            2.0        73.0  \n",
       "8333            2.0        85.0  \n",
       "8361            1.0         6.0  \n",
       "\n",
       "[2334 rows x 32 columns]"
      ]
     },
     "execution_count": 58,
     "metadata": {},
     "output_type": "execute_result"
    }
   ],
   "source": [
    "# filter main df to missing mf only\n",
    "df_missing_mf = df_lego_analysis[df_lego_analysis['minifigs'].isna()]\n",
    "df_missing_mf"
   ]
  },
  {
   "cell_type": "code",
   "execution_count": 59,
   "id": "d0b257da-189f-472d-9a07-633984a497cc",
   "metadata": {},
   "outputs": [
    {
     "data": {
      "text/plain": [
       "2334"
      ]
     },
     "execution_count": 59,
     "metadata": {},
     "output_type": "execute_result"
    }
   ],
   "source": [
    "# row count missing mf rows\n",
    "df_missing_mf.shape[0]"
   ]
  },
  {
   "cell_type": "code",
   "execution_count": 60,
   "id": "d616512e-ce14-4e1a-9822-e76e215026e4",
   "metadata": {},
   "outputs": [
    {
     "data": {
      "text/plain": [
       "112"
      ]
     },
     "execution_count": 60,
     "metadata": {},
     "output_type": "execute_result"
    }
   ],
   "source": [
    "# checking matching rows prior to merging\n",
    "df_missing_mf['set_num'].isin(df_mfs['set_num']).sum()"
   ]
  },
  {
   "cell_type": "code",
   "execution_count": 61,
   "id": "3ccf0ee1-2cc7-48bb-aea1-2d902dfe4a84",
   "metadata": {},
   "outputs": [],
   "source": [
    "# join filtered df with df_mfs to pull in missing data\n",
    "merged_mf = df_missing_mf.merge(\n",
    "    df_mfs[['set_num', 'quantity']],\n",
    "    on='set_num',\n",
    "    how='left',\n",
    "    suffixes=('', '_mf')\n",
    ")"
   ]
  },
  {
   "cell_type": "code",
   "execution_count": 62,
   "id": "f094611f-2825-4600-b075-22a6af7fd07e",
   "metadata": {},
   "outputs": [
    {
     "data": {
      "text/plain": [
       "2334"
      ]
     },
     "execution_count": 62,
     "metadata": {},
     "output_type": "execute_result"
    }
   ],
   "source": [
    "# confirming unchanged row count\n",
    "merged_mf.shape[0]"
   ]
  },
  {
   "cell_type": "code",
   "execution_count": 63,
   "id": "8d01bf40-de82-4c57-91ee-c8b4919d93d9",
   "metadata": {},
   "outputs": [
    {
     "data": {
      "text/html": [
       "<div>\n",
       "<style scoped>\n",
       "    .dataframe tbody tr th:only-of-type {\n",
       "        vertical-align: middle;\n",
       "    }\n",
       "\n",
       "    .dataframe tbody tr th {\n",
       "        vertical-align: top;\n",
       "    }\n",
       "\n",
       "    .dataframe thead th {\n",
       "        text-align: right;\n",
       "    }\n",
       "</style>\n",
       "<table border=\"1\" class=\"dataframe\">\n",
       "  <thead>\n",
       "    <tr style=\"text-align: right;\">\n",
       "      <th></th>\n",
       "      <th>set_number</th>\n",
       "      <th>setID</th>\n",
       "      <th>name</th>\n",
       "      <th>year</th>\n",
       "      <th>theme</th>\n",
       "      <th>themeGroup</th>\n",
       "      <th>subtheme</th>\n",
       "      <th>category</th>\n",
       "      <th>pieces</th>\n",
       "      <th>minifigs</th>\n",
       "      <th>...</th>\n",
       "      <th>status</th>\n",
       "      <th>year_time</th>\n",
       "      <th>year_period</th>\n",
       "      <th>set_num</th>\n",
       "      <th>theme_id</th>\n",
       "      <th>num_parts</th>\n",
       "      <th>num_colors</th>\n",
       "      <th>num_materials</th>\n",
       "      <th>sum_spares</th>\n",
       "      <th>quantity</th>\n",
       "    </tr>\n",
       "  </thead>\n",
       "  <tbody>\n",
       "    <tr>\n",
       "      <th>0</th>\n",
       "      <td>71038-0</td>\n",
       "      <td>34520</td>\n",
       "      <td>LEGO Minifigures - Disney 100 Series {Random bag}</td>\n",
       "      <td>2023</td>\n",
       "      <td>Collectable Minifigures</td>\n",
       "      <td>Miscellaneous</td>\n",
       "      <td>Disney 100</td>\n",
       "      <td>Random</td>\n",
       "      <td>NaN</td>\n",
       "      <td>NaN</td>\n",
       "      <td>...</td>\n",
       "      <td>Coming Soon</td>\n",
       "      <td>2023-01-01</td>\n",
       "      <td>2023</td>\n",
       "      <td>71038-0</td>\n",
       "      <td>NaN</td>\n",
       "      <td>NaN</td>\n",
       "      <td>NaN</td>\n",
       "      <td>NaN</td>\n",
       "      <td>NaN</td>\n",
       "      <td>NaN</td>\n",
       "    </tr>\n",
       "    <tr>\n",
       "      <th>1</th>\n",
       "      <td>10314-1</td>\n",
       "      <td>34445</td>\n",
       "      <td>Dried Flower Centrepiece</td>\n",
       "      <td>2023</td>\n",
       "      <td>Icons</td>\n",
       "      <td>Model making</td>\n",
       "      <td>Botanical Collection</td>\n",
       "      <td>Normal</td>\n",
       "      <td>812.0</td>\n",
       "      <td>NaN</td>\n",
       "      <td>...</td>\n",
       "      <td>Available now</td>\n",
       "      <td>2023-01-01</td>\n",
       "      <td>2023</td>\n",
       "      <td>10314-1</td>\n",
       "      <td>721.0</td>\n",
       "      <td>812.0</td>\n",
       "      <td>18.0</td>\n",
       "      <td>1.0</td>\n",
       "      <td>134.0</td>\n",
       "      <td>NaN</td>\n",
       "    </tr>\n",
       "    <tr>\n",
       "      <th>2</th>\n",
       "      <td>10317-1</td>\n",
       "      <td>39928</td>\n",
       "      <td>Land Rover Classic Defender 90</td>\n",
       "      <td>2023</td>\n",
       "      <td>Icons</td>\n",
       "      <td>Model making</td>\n",
       "      <td>Vehicles</td>\n",
       "      <td>Normal</td>\n",
       "      <td>2336.0</td>\n",
       "      <td>NaN</td>\n",
       "      <td>...</td>\n",
       "      <td>Pre-Order</td>\n",
       "      <td>2023-01-01</td>\n",
       "      <td>2023</td>\n",
       "      <td>10317-1</td>\n",
       "      <td>721.0</td>\n",
       "      <td>2344.0</td>\n",
       "      <td>21.0</td>\n",
       "      <td>2.0</td>\n",
       "      <td>535.0</td>\n",
       "      <td>NaN</td>\n",
       "    </tr>\n",
       "    <tr>\n",
       "      <th>3</th>\n",
       "      <td>10323-1</td>\n",
       "      <td>47098</td>\n",
       "      <td>PAC-MAN Arcade</td>\n",
       "      <td>2023</td>\n",
       "      <td>Icons</td>\n",
       "      <td>Model making</td>\n",
       "      <td>Licensed</td>\n",
       "      <td>Normal</td>\n",
       "      <td>2651.0</td>\n",
       "      <td>NaN</td>\n",
       "      <td>...</td>\n",
       "      <td>Lack of data</td>\n",
       "      <td>2023-01-01</td>\n",
       "      <td>2023</td>\n",
       "      <td>10323-1</td>\n",
       "      <td>721.0</td>\n",
       "      <td>2651.0</td>\n",
       "      <td>23.0</td>\n",
       "      <td>3.0</td>\n",
       "      <td>472.0</td>\n",
       "      <td>1.0</td>\n",
       "    </tr>\n",
       "    <tr>\n",
       "      <th>4</th>\n",
       "      <td>10785-1</td>\n",
       "      <td>45489</td>\n",
       "      <td>Bakey with Cakey Fun</td>\n",
       "      <td>2023</td>\n",
       "      <td>Gabby's Dollhouse</td>\n",
       "      <td>NaN</td>\n",
       "      <td>NaN</td>\n",
       "      <td>Normal</td>\n",
       "      <td>58.0</td>\n",
       "      <td>NaN</td>\n",
       "      <td>...</td>\n",
       "      <td>Available now</td>\n",
       "      <td>2023-01-01</td>\n",
       "      <td>2023</td>\n",
       "      <td>10785-1</td>\n",
       "      <td>748.0</td>\n",
       "      <td>58.0</td>\n",
       "      <td>16.0</td>\n",
       "      <td>1.0</td>\n",
       "      <td>46.0</td>\n",
       "      <td>1.0</td>\n",
       "    </tr>\n",
       "  </tbody>\n",
       "</table>\n",
       "<p>5 rows × 33 columns</p>\n",
       "</div>"
      ],
      "text/plain": [
       "  set_number  setID                                               name  year  \\\n",
       "0    71038-0  34520  LEGO Minifigures - Disney 100 Series {Random bag}  2023   \n",
       "1    10314-1  34445                           Dried Flower Centrepiece  2023   \n",
       "2    10317-1  39928                     Land Rover Classic Defender 90  2023   \n",
       "3    10323-1  47098                                     PAC-MAN Arcade  2023   \n",
       "4    10785-1  45489                               Bakey with Cakey Fun  2023   \n",
       "\n",
       "                     theme     themeGroup              subtheme category  \\\n",
       "0  Collectable Minifigures  Miscellaneous            Disney 100   Random   \n",
       "1                    Icons   Model making  Botanical Collection   Normal   \n",
       "2                    Icons   Model making              Vehicles   Normal   \n",
       "3                    Icons   Model making              Licensed   Normal   \n",
       "4        Gabby's Dollhouse            NaN                   NaN   Normal   \n",
       "\n",
       "   pieces  minifigs  ...         status   year_time  year_period  set_num  \\\n",
       "0     NaN       NaN  ...    Coming Soon  2023-01-01         2023  71038-0   \n",
       "1   812.0       NaN  ...  Available now  2023-01-01         2023  10314-1   \n",
       "2  2336.0       NaN  ...      Pre-Order  2023-01-01         2023  10317-1   \n",
       "3  2651.0       NaN  ...   Lack of data  2023-01-01         2023  10323-1   \n",
       "4    58.0       NaN  ...  Available now  2023-01-01         2023  10785-1   \n",
       "\n",
       "  theme_id num_parts  num_colors  num_materials  sum_spares  quantity  \n",
       "0      NaN       NaN         NaN            NaN         NaN       NaN  \n",
       "1    721.0     812.0        18.0            1.0       134.0       NaN  \n",
       "2    721.0    2344.0        21.0            2.0       535.0       NaN  \n",
       "3    721.0    2651.0        23.0            3.0       472.0       1.0  \n",
       "4    748.0      58.0        16.0            1.0        46.0       1.0  \n",
       "\n",
       "[5 rows x 33 columns]"
      ]
     },
     "execution_count": 63,
     "metadata": {},
     "output_type": "execute_result"
    }
   ],
   "source": [
    "# check merged df\n",
    "merged_mf.head()"
   ]
  },
  {
   "cell_type": "code",
   "execution_count": 64,
   "id": "9cfe7268-644c-4226-921d-a13ef06acc60",
   "metadata": {},
   "outputs": [
    {
     "data": {
      "text/plain": [
       "Index(['set_number', 'setID', 'name', 'year', 'theme', 'themeGroup',\n",
       "       'subtheme', 'category', 'pieces', 'minifigs', 'ownedBy', 'wantedBy',\n",
       "       'rating', 'reviewCount', 'packagingType', 'availability',\n",
       "       'instructionsCount', 'minAge', 'US_retailPrice', 'UK_retailPrice',\n",
       "       'CA_retailPrice', 'DE_retailPrice', 'PL_retailPrice', 'status',\n",
       "       'year_time', 'year_period', 'set_num', 'theme_id', 'num_parts',\n",
       "       'num_colors', 'num_materials', 'sum_spares', 'quantity'],\n",
       "      dtype='object')"
      ]
     },
     "execution_count": 64,
     "metadata": {},
     "output_type": "execute_result"
    }
   ],
   "source": [
    "# check columns\n",
    "merged_mf.columns"
   ]
  },
  {
   "cell_type": "code",
   "execution_count": 65,
   "id": "d942caf1-4b9e-4c06-a549-11987c88d31d",
   "metadata": {},
   "outputs": [],
   "source": [
    "# drop column\n",
    "merged_mf.drop(columns='sum_spares', inplace=True)"
   ]
  },
  {
   "cell_type": "code",
   "execution_count": 66,
   "id": "bc0d239b-a779-499d-96a2-9a019399e6dd",
   "metadata": {},
   "outputs": [
    {
     "data": {
      "text/plain": [
       "23"
      ]
     },
     "execution_count": 66,
     "metadata": {},
     "output_type": "execute_result"
    }
   ],
   "source": [
    "# check for duplicates\n",
    "merged_mf.duplicated().sum()"
   ]
  },
  {
   "cell_type": "code",
   "execution_count": 67,
   "id": "bd63f3fb-3c25-4876-8d58-edd83e231e32",
   "metadata": {},
   "outputs": [],
   "source": [
    "# drop duplicates\n",
    "merged_mf = merged_mf.drop_duplicates()"
   ]
  },
  {
   "cell_type": "code",
   "execution_count": 68,
   "id": "d2e17362-31dc-4a28-8b55-b01e70f479c8",
   "metadata": {},
   "outputs": [],
   "source": [
    "# move values from quanity to minifigs to replace NaNs \n",
    "merged_mf['minifigs'] = merged_mf['minifigs'].fillna(merged_mf['quantity'])\n",
    "\n",
    "# drop empty quantity column \n",
    "merged_mf.drop(columns=['quantity'], inplace=True)"
   ]
  },
  {
   "cell_type": "code",
   "execution_count": 69,
   "id": "965a1bb9-3ff1-4218-9058-d4c1cc5b3018",
   "metadata": {},
   "outputs": [
    {
     "data": {
      "text/plain": [
       "2199"
      ]
     },
     "execution_count": 69,
     "metadata": {},
     "output_type": "execute_result"
    }
   ],
   "source": [
    "# check missing values\n",
    "merged_mf['minifigs'].isna().sum()"
   ]
  },
  {
   "cell_type": "code",
   "execution_count": 70,
   "id": "4b02b4f8-312b-4e41-aa23-8b6496459128",
   "metadata": {},
   "outputs": [
    {
     "data": {
      "text/html": [
       "<div>\n",
       "<style scoped>\n",
       "    .dataframe tbody tr th:only-of-type {\n",
       "        vertical-align: middle;\n",
       "    }\n",
       "\n",
       "    .dataframe tbody tr th {\n",
       "        vertical-align: top;\n",
       "    }\n",
       "\n",
       "    .dataframe thead th {\n",
       "        text-align: right;\n",
       "    }\n",
       "</style>\n",
       "<table border=\"1\" class=\"dataframe\">\n",
       "  <thead>\n",
       "    <tr style=\"text-align: right;\">\n",
       "      <th></th>\n",
       "      <th>theme</th>\n",
       "      <th>null_count</th>\n",
       "    </tr>\n",
       "  </thead>\n",
       "  <tbody>\n",
       "    <tr>\n",
       "      <th>0</th>\n",
       "      <td>Advanced models</td>\n",
       "      <td>11</td>\n",
       "    </tr>\n",
       "    <tr>\n",
       "      <th>1</th>\n",
       "      <td>Adventurers</td>\n",
       "      <td>1</td>\n",
       "    </tr>\n",
       "    <tr>\n",
       "      <th>2</th>\n",
       "      <td>Architecture</td>\n",
       "      <td>55</td>\n",
       "    </tr>\n",
       "    <tr>\n",
       "      <th>3</th>\n",
       "      <td>Art</td>\n",
       "      <td>13</td>\n",
       "    </tr>\n",
       "    <tr>\n",
       "      <th>4</th>\n",
       "      <td>Assorted</td>\n",
       "      <td>1</td>\n",
       "    </tr>\n",
       "    <tr>\n",
       "      <th>...</th>\n",
       "      <td>...</td>\n",
       "      <td>...</td>\n",
       "    </tr>\n",
       "    <tr>\n",
       "      <th>78</th>\n",
       "      <td>Town</td>\n",
       "      <td>22</td>\n",
       "    </tr>\n",
       "    <tr>\n",
       "      <th>79</th>\n",
       "      <td>Trains</td>\n",
       "      <td>11</td>\n",
       "    </tr>\n",
       "    <tr>\n",
       "      <th>80</th>\n",
       "      <td>Unikitty</td>\n",
       "      <td>3</td>\n",
       "    </tr>\n",
       "    <tr>\n",
       "      <th>81</th>\n",
       "      <td>Vidiyo</td>\n",
       "      <td>2</td>\n",
       "    </tr>\n",
       "    <tr>\n",
       "      <th>82</th>\n",
       "      <td>Xtra</td>\n",
       "      <td>16</td>\n",
       "    </tr>\n",
       "  </tbody>\n",
       "</table>\n",
       "<p>83 rows × 2 columns</p>\n",
       "</div>"
      ],
      "text/plain": [
       "              theme  null_count\n",
       "0   Advanced models          11\n",
       "1       Adventurers           1\n",
       "2      Architecture          55\n",
       "3               Art          13\n",
       "4          Assorted           1\n",
       "..              ...         ...\n",
       "78             Town          22\n",
       "79           Trains          11\n",
       "80         Unikitty           3\n",
       "81           Vidiyo           2\n",
       "82             Xtra          16\n",
       "\n",
       "[83 rows x 2 columns]"
      ]
     },
     "execution_count": 70,
     "metadata": {},
     "output_type": "execute_result"
    }
   ],
   "source": [
    "# count missing mf by theme\n",
    "merged_mf[merged_mf['minifigs'].isna()].groupby('theme').size().reset_index(name='null_count')"
   ]
  },
  {
   "cell_type": "code",
   "execution_count": 71,
   "id": "df3d81ae-c5d6-421e-8990-f16a9e861e31",
   "metadata": {},
   "outputs": [],
   "source": [
    "# impute for missing mf by theme\n",
    "merged_mf.loc[merged_mf['theme'] == 'Architecture', 'minifigs'] = 0\n",
    "merged_mf.loc[merged_mf['theme'] == 'BrickHeadz', 'minifigs'] = 0\n",
    "merged_mf.loc[merged_mf['theme'] == 'Brick Sketches', 'minifigs'] = 0\n",
    "merged_mf.loc[merged_mf['theme'] == 'Collectable Minifigures', 'minifigs'] = 1"
   ]
  },
  {
   "cell_type": "code",
   "execution_count": 72,
   "id": "78ee751f-4d13-4d8c-9271-c10683a9a4b6",
   "metadata": {},
   "outputs": [
    {
     "data": {
      "text/html": [
       "<div>\n",
       "<style scoped>\n",
       "    .dataframe tbody tr th:only-of-type {\n",
       "        vertical-align: middle;\n",
       "    }\n",
       "\n",
       "    .dataframe tbody tr th {\n",
       "        vertical-align: top;\n",
       "    }\n",
       "\n",
       "    .dataframe thead th {\n",
       "        text-align: right;\n",
       "    }\n",
       "</style>\n",
       "<table border=\"1\" class=\"dataframe\">\n",
       "  <thead>\n",
       "    <tr style=\"text-align: right;\">\n",
       "      <th></th>\n",
       "      <th>theme</th>\n",
       "      <th>set_num</th>\n",
       "      <th>minifigs</th>\n",
       "    </tr>\n",
       "  </thead>\n",
       "  <tbody>\n",
       "    <tr>\n",
       "      <th>1</th>\n",
       "      <td>Icons</td>\n",
       "      <td>10314-1</td>\n",
       "      <td>NaN</td>\n",
       "    </tr>\n",
       "    <tr>\n",
       "      <th>2</th>\n",
       "      <td>Icons</td>\n",
       "      <td>10317-1</td>\n",
       "      <td>NaN</td>\n",
       "    </tr>\n",
       "    <tr>\n",
       "      <th>8</th>\n",
       "      <td>Classic</td>\n",
       "      <td>11029-1</td>\n",
       "      <td>NaN</td>\n",
       "    </tr>\n",
       "    <tr>\n",
       "      <th>9</th>\n",
       "      <td>Classic</td>\n",
       "      <td>11027-1</td>\n",
       "      <td>NaN</td>\n",
       "    </tr>\n",
       "    <tr>\n",
       "      <th>10</th>\n",
       "      <td>Classic</td>\n",
       "      <td>11028-1</td>\n",
       "      <td>NaN</td>\n",
       "    </tr>\n",
       "    <tr>\n",
       "      <th>...</th>\n",
       "      <td>...</td>\n",
       "      <td>...</td>\n",
       "      <td>...</td>\n",
       "    </tr>\n",
       "    <tr>\n",
       "      <th>2329</th>\n",
       "      <td>Technic</td>\n",
       "      <td>8035-1</td>\n",
       "      <td>NaN</td>\n",
       "    </tr>\n",
       "    <tr>\n",
       "      <th>2330</th>\n",
       "      <td>Technic</td>\n",
       "      <td>1972-1</td>\n",
       "      <td>NaN</td>\n",
       "    </tr>\n",
       "    <tr>\n",
       "      <th>2331</th>\n",
       "      <td>Technic</td>\n",
       "      <td>8851-1</td>\n",
       "      <td>NaN</td>\n",
       "    </tr>\n",
       "    <tr>\n",
       "      <th>2332</th>\n",
       "      <td>Technic</td>\n",
       "      <td>8843-1</td>\n",
       "      <td>NaN</td>\n",
       "    </tr>\n",
       "    <tr>\n",
       "      <th>2333</th>\n",
       "      <td>Town</td>\n",
       "      <td>6305-1</td>\n",
       "      <td>NaN</td>\n",
       "    </tr>\n",
       "  </tbody>\n",
       "</table>\n",
       "<p>1955 rows × 3 columns</p>\n",
       "</div>"
      ],
      "text/plain": [
       "        theme  set_num  minifigs\n",
       "1       Icons  10314-1       NaN\n",
       "2       Icons  10317-1       NaN\n",
       "8     Classic  11029-1       NaN\n",
       "9     Classic  11027-1       NaN\n",
       "10    Classic  11028-1       NaN\n",
       "...       ...      ...       ...\n",
       "2329  Technic   8035-1       NaN\n",
       "2330  Technic   1972-1       NaN\n",
       "2331  Technic   8851-1       NaN\n",
       "2332  Technic   8843-1       NaN\n",
       "2333     Town   6305-1       NaN\n",
       "\n",
       "[1955 rows x 3 columns]"
      ]
     },
     "execution_count": 72,
     "metadata": {},
     "output_type": "execute_result"
    }
   ],
   "source": [
    "# list set number for missing mf\n",
    "merged_mf[merged_mf['minifigs'].isna()][['theme', 'set_num', 'minifigs']]"
   ]
  },
  {
   "cell_type": "code",
   "execution_count": 73,
   "id": "be9ed257-e661-4fbe-9530-f31cced463b0",
   "metadata": {},
   "outputs": [],
   "source": [
    "# export to csv\n",
    "merged_mf.to_csv(os.path.join(path, '2 Data','Prepared data', 'missing_set_num.csv'))"
   ]
  },
  {
   "cell_type": "code",
   "execution_count": 74,
   "id": "7b53d980-5c78-4393-a2db-b659ce9e356d",
   "metadata": {},
   "outputs": [],
   "source": [
    "# aggregate by set_num to remove duplicates\n",
    "aggregated_mf = merged_mf.groupby('set_num')['minifigs'].sum()\n",
    "\n",
    "# update main df by merging back filtered df\n",
    "df_lego_analysis['minifigs'] = df_lego_analysis['minifigs'].fillna(aggregated_mf)"
   ]
  },
  {
   "cell_type": "code",
   "execution_count": 75,
   "id": "0761e520-90c6-4695-a6a9-0febc01b6295",
   "metadata": {},
   "outputs": [
    {
     "data": {
      "text/plain": [
       "set_number              0\n",
       "setID                   0\n",
       "name                    0\n",
       "year                    0\n",
       "theme                   0\n",
       "themeGroup             15\n",
       "subtheme              879\n",
       "category                0\n",
       "pieces                122\n",
       "minifigs             2334\n",
       "ownedBy                 8\n",
       "wantedBy                0\n",
       "rating                  0\n",
       "reviewCount             0\n",
       "packagingType           0\n",
       "availability            0\n",
       "instructionsCount       0\n",
       "minAge               2190\n",
       "US_retailPrice       2790\n",
       "UK_retailPrice       2732\n",
       "CA_retailPrice       3225\n",
       "DE_retailPrice       4331\n",
       "PL_retailPrice        714\n",
       "status                  0\n",
       "year_time               0\n",
       "year_period             0\n",
       "set_num                 0\n",
       "theme_id              212\n",
       "num_parts             212\n",
       "num_colors            167\n",
       "num_materials         167\n",
       "sum_spares            167\n",
       "dtype: int64"
      ]
     },
     "execution_count": 75,
     "metadata": {},
     "output_type": "execute_result"
    }
   ],
   "source": [
    "df_lego_analysis.isnull().sum()"
   ]
  },
  {
   "cell_type": "code",
   "execution_count": 76,
   "id": "3fd47260-4cda-4aaa-be9d-834ee392bc34",
   "metadata": {},
   "outputs": [],
   "source": [
    "# export to csv\n",
    "df_lego_analysis.to_csv(os.path.join(path, '2 Data','Prepared data', 'lego_analysis.csv'))"
   ]
  },
  {
   "cell_type": "markdown",
   "id": "244e2e53-8e02-4a71-ab16-416815dbd39b",
   "metadata": {},
   "source": [
    " . . . . . . . . . . . . . . . . . . . . . . . . . . . . . . . . . . . . . . . . . . . . . . . . . . . . . . . . . . . . . . . . . . . . . . . . . . . . . . . . . . . . . . . . . . . . . . . . . . . . . . . . . . . . . . . . . . . . . . . . . . . . . . . . . . . . . . . . . . . . "
   ]
  }
 ],
 "metadata": {
  "kernelspec": {
   "display_name": "Python 3 (ipykernel)",
   "language": "python",
   "name": "python3"
  },
  "language_info": {
   "codemirror_mode": {
    "name": "ipython",
    "version": 3
   },
   "file_extension": ".py",
   "mimetype": "text/x-python",
   "name": "python",
   "nbconvert_exporter": "python",
   "pygments_lexer": "ipython3",
   "version": "3.12.4"
  }
 },
 "nbformat": 4,
 "nbformat_minor": 5
}
